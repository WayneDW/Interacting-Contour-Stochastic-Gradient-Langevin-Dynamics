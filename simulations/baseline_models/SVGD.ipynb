{
 "cells": [
  {
   "cell_type": "code",
   "execution_count": null,
   "metadata": {
    "colab": {
     "base_uri": "https://localhost:8080/"
    },
    "executionInfo": {
     "elapsed": 22773,
     "status": "ok",
     "timestamp": 1611607913488,
     "user": {
      "displayName": "YUBO WANG",
      "photoUrl": "",
      "userId": "04037309235043616004"
     },
     "user_tz": 300
    },
    "id": "-4GgqKUXarDX",
    "outputId": "8bc4724c-5ae9-462d-ba37-edbf06e34378"
   },
   "outputs": [],
   "source": [
    "import autograd.numpy as np\n",
    "from autograd import grad\n",
    "from autograd.numpy import log, sqrt, sin, cos, exp, pi, prod\n",
    "from autograd.numpy.random import normal, uniform\n",
    "from scipy.spatial.distance import pdist, squareform\n",
    "\n",
    "import matplotlib as mpl\n",
    "from mpl_toolkits.mplot3d import Axes3D\n",
    "import matplotlib.pyplot as plt\n",
    "import seaborn as sns\n",
    "from matplotlib import cm\n",
    "import imageio\n",
    "import os\n",
    "from google.colab import drive\n",
    "drive.mount('/content/drive')\n",
    "\n",
    "path = \"/content/drive/My Drive\"\n",
    "\n",
    "os.chdir(path)\n",
    "os.listdir(path)"
   ]
  },
  {
   "cell_type": "code",
   "execution_count": null,
   "metadata": {
    "id": "bERjdmuWauTq"
   },
   "outputs": [],
   "source": [
    "np.set_printoptions(precision=3)\n",
    "np.set_printoptions(suppress=True)\n",
    "np.random.seed(2021)"
   ]
  },
  {
   "cell_type": "code",
   "execution_count": null,
   "metadata": {
    "id": "Tw_DqaifawVn"
   },
   "outputs": [],
   "source": [
    "def mixture(x):\n",
    "    energy = ((x[0]**2 + x[1]**2)/10 - (cos(2.0*pi*x[0]) + cos(2.0*pi*x[1]))) / 0.5 # 2\n",
    "    regularizer = ((x[0]**2 + x[1]**2) > 20) * ((x[0]**2 + x[1]**2) - 20)\n",
    "    return -(energy + regularizer)\n",
    "\n",
    "\n",
    "def mixture_expand(x, y): return -mixture([x, y])\n",
    "def function_plot(x, y): return np.exp(mixture([x, y]))\n",
    "\n",
    "lower, upper = -2.5, 2.5\n",
    "axis_x = np.linspace(lower, upper, 500)\n",
    "axis_y = np.linspace(lower, upper, 500)\n",
    "axis_X, axis_Y = np.meshgrid(axis_x, axis_y)\n",
    "\n",
    "energy_grid = mixture_expand(axis_X, axis_Y)\n",
    "prob_grid = function_plot(axis_X, axis_Y)"
   ]
  },
  {
   "cell_type": "markdown",
   "metadata": {
    "id": "QpT1SH6bayKO"
   },
   "source": [
    "# Build SVGD *Sampler*"
   ]
  },
  {
   "cell_type": "code",
   "execution_count": null,
   "metadata": {
    "id": "SYAeyQSzc12i"
   },
   "outputs": [],
   "source": [
    "class Sampler:\n",
    "    def __init__(self, f=None, xinit=None, lr=1e-3, alpha = 0.9, debug = False):\n",
    "        self.f = f\n",
    "        self.lr = lr\n",
    "        self.debug = debug\n",
    "        self.alpha = alpha\n",
    "        self.historical_grad = 0\n",
    "      \n",
    "         \n",
    "        # initialization for SGLD\n",
    "        self.x = np.array(xinit)\n",
    "        \n",
    "    def svgd_kernel(self, theta, h = -1):\n",
    "        sq_dist = pdist(theta)\n",
    "        pairwise_dists = squareform(sq_dist)**2\n",
    "        if h < 0: # if h < 0, using median trick\n",
    "            h = np.median(pairwise_dists)  \n",
    "            h = np.sqrt(0.5 * h / np.log(theta.shape[0]+1))\n",
    "\n",
    "        # compute the rbf kernel\n",
    "        Kxy = np.exp( -pairwise_dists / h**2 / 2)\n",
    "\n",
    "        dxkxy = -np.matmul(Kxy, theta)\n",
    "        sumkxy = np.sum(Kxy, axis=1)\n",
    "        for i in range(theta.shape[1]):\n",
    "            dxkxy[:, i] = dxkxy[:,i] + np.multiply(theta[:,i],sumkxy)\n",
    "        dxkxy = dxkxy / (h**2)\n",
    "        return (Kxy, dxkxy)\n",
    "    \n",
    "    def grad(self, beta):  return grad(self.f)(beta)\n",
    "\n",
    "    def svgd_step(self, iter):  \n",
    "        # Check input\n",
    "        if self.x is None or self.f is None:\n",
    "            raise ValueError('x0 or lnprob cannot be None!')\n",
    "        \n",
    "        # adagrad with momentum\n",
    "        fudge_factor = 1e-6\n",
    "        if self.debug and (iter+1) % 1000 == 0:\n",
    "            print('iter ' + str(iter+1))\n",
    "        \n",
    "        lnpgrad = np.array([self.grad(self.x[i]) for i in range(self.x.shape[0])])\n",
    "        \n",
    "        # calculating the kernel matrix\n",
    "        kxy, dxkxy = self.svgd_kernel(self.x, h = -1)  \n",
    "        grad_x = (np.matmul(kxy, lnpgrad) + dxkxy) / self.x.shape[0]  \n",
    "        \n",
    "        # adagrad \n",
    "        if iter == 0:\n",
    "            self.historical_grad = self.historical_grad + grad_x ** 2\n",
    "        else:\n",
    "            self.historical_grad = self.alpha * self.historical_grad + (1 - self.alpha) * (grad_x ** 2)\n",
    "        adj_grad = np.divide(grad_x, fudge_factor+np.sqrt(self.historical_grad))\n",
    "        self.x += self.lr * adj_grad \n",
    "     "
   ]
  },
  {
   "cell_type": "markdown",
   "metadata": {
    "id": "7oVLJQNXfe22"
   },
   "source": [
    "call our sampler"
   ]
  },
  {
   "cell_type": "code",
   "execution_count": null,
   "metadata": {
    "id": "iKpmE9FsfXAv"
   },
   "outputs": [],
   "source": [
    "xinit = np.random.uniform([lower, lower], [upper, upper], [500, 2])\n",
    "sampler = Sampler(f=mixture, xinit=xinit, lr=3e-3, alpha = 0.9)"
   ]
  },
  {
   "cell_type": "code",
   "execution_count": null,
   "metadata": {
    "id": "krpPIdd_fibA"
   },
   "outputs": [],
   "source": [
    "warm_up = -1\n",
    "svgd_x = np.array([sampler.x])"
   ]
  },
  {
   "cell_type": "code",
   "execution_count": null,
   "metadata": {
    "colab": {
     "base_uri": "https://localhost:8080/",
     "height": 1000,
     "output_embedded_package_id": "1FnjcTrv1E_xypeqUkf20-b09LnCQyXTN"
    },
    "executionInfo": {
     "elapsed": 24930399,
     "status": "ok",
     "timestamp": 1611632914489,
     "user": {
      "displayName": "YUBO WANG",
      "photoUrl": "",
      "userId": "04037309235043616004"
     },
     "user_tz": 300
    },
    "id": "DTBSjSMAftWl",
    "outputId": "b46fdecf-c8b4-4e3f-f859-9d72c7620e10"
   },
   "outputs": [
    {
     "data": {
      "text/plain": [
       "Output hidden; open in https://colab.research.google.com to view."
      ]
     },
     "metadata": {},
     "output_type": "display_data"
    }
   ],
   "source": [
    "my_images3 = []\n",
    "svgd_x_path = []\n",
    "PATH = 'anonymous/Contour-Stochastic-Gradient-Langevin-Dynamics/SVGD_result/'\n",
    "if not os.path.isdir(PATH):\n",
    "    try:\n",
    "        os.makedirs(PATH)\n",
    "    except OSError as exc:  # Python >2.5\n",
    "        if exc.errno == errno.EEXIST and os.path.isdir(PATH):\n",
    "            pass\n",
    "        else:\n",
    "            raise\n",
    "\n",
    "for iters in range(int(5e4)):\n",
    "    sampler.svgd_step(iters)\n",
    "    if iters > warm_up:\n",
    "        # save the sampels\n",
    "        svgd_x_path.append(sampler.x)\n",
    "        if iters % 1000 == 0:\n",
    "            fig3 = plt.figure(figsize=(4, 4))\n",
    "            plt.contour(axis_X, axis_Y, prob_grid, 10)\n",
    "            plt.yticks([-4, -2, 0, 2, 4]) \n",
    "            plt.scatter(sampler.x[:,0], sampler.x[:,1], marker='.', s=3, color='k', label=\"Iteration=\"+str(iters)) \n",
    "            plt.legend(loc=\"upper left\", prop={'size': 10})\n",
    "            plt.xlim([lower, upper])\n",
    "            plt.ylim([lower, upper])\n",
    "            # plt.tight_layout()\n",
    "            plt.show()\n",
    "            fig3.canvas.draw()\n",
    "            image3 = np.frombuffer(fig3.canvas.tostring_rgb(), dtype='uint8').reshape(fig3.canvas.get_width_height()[::-1] + (3,))\n",
    "            my_images3.append(image3)\n",
    "            plt.close('all')\n",
    "\n",
    "               \n",
    "          \n",
    "\n",
    "imageio.mimsave(PATH+'single_SVGD_contour_'+str(sampler.lr)+'.gif', my_images3, fps=50)      \n",
    "# imageio.mimsave(PATH+'CSGLD_PDF'+str(zeta)+\"_\"+str(psampler.lr)+\"_\"+str(psampler.T)+'.gif', my_images4, fps=50)\n",
    "\n",
    "# save the sampels\n",
    "import pickle\n",
    "f = open(PATH + 'single_SVGD_samples.txt', 'wb')\n",
    "pickle.dump(svgd_x_path, f)\n",
    "f.close()            "
   ]
  },
  {
   "cell_type": "code",
   "execution_count": null,
   "metadata": {
    "colab": {
     "base_uri": "https://localhost:8080/",
     "height": 323
    },
    "executionInfo": {
     "elapsed": 2091,
     "status": "ok",
     "timestamp": 1611633908005,
     "user": {
      "displayName": "YUBO WANG",
      "photoUrl": "",
      "userId": "04037309235043616004"
     },
     "user_tz": 300
    },
    "id": "gynXQJrFn_6R",
    "outputId": "385e1947-1fb4-4a09-93af-98bc6b8838b3"
   },
   "outputs": [
    {
     "name": "stderr",
     "output_type": "stream",
     "text": [
      "/usr/local/lib/python3.6/dist-packages/seaborn/_decorators.py:43: FutureWarning: Pass the following variable as a keyword arg: y. From version 0.12, the only valid positional argument will be `data`, and passing other arguments without an explicit keyword will result in an error or misinterpretation.\n",
      "  FutureWarning\n",
      "/usr/local/lib/python3.6/dist-packages/seaborn/distributions.py:1657: FutureWarning: The `bw` parameter is deprecated in favor of `bw_method` and `bw_adjust`. Using 0.15 for `bw_method`, but please see the docs for the new parameters and update your code.\n",
      "  warnings.warn(msg, FutureWarning)\n"
     ]
    },
    {
     "data": {
      "image/png": "[encoded data removed]",
      "text/plain": [
       "<Figure size 540x226.8 with 2 Axes>"
      ]
     },
     "metadata": {
      "needs_background": "light",
      "tags": []
     },
     "output_type": "display_data"
    }
   ],
   "source": [
    "fig = plt.figure(figsize=(7.5, 3.15))\n",
    "plt.subplot(1, 2, 1).set_title('(a) Ground truth')\n",
    "sns.heatmap(prob_grid, cmap=\"Blues\", cbar=False, xticklabels=False, yticklabels=False).invert_yaxis()\n",
    "\n",
    "warm_sample = 0\n",
    "split_ = 1\n",
    "svgd_x = svgd_x.reshape(-1,2)\n",
    "plt.subplot(1, 2, 2).set_title('(b) SVGD')\n",
    "ax = sns.kdeplot(sampler.x[:,0], sampler.x[:,1],  cmap=\"Blues\", shade=True, thresh=0.05, bw=0.15)\n",
    "ax.set_xlim(lower, upper)\n",
    "ax.set_ylim(lower, upper)\n",
    "plt.savefig(PATH+\"SVGD.png\")"
   ]
  },
  {
   "cell_type": "code",
   "execution_count": null,
   "metadata": {
    "colab": {
     "base_uri": "https://localhost:8080/",
     "height": 307
    },
    "executionInfo": {
     "elapsed": 1436,
     "status": "ok",
     "timestamp": 1611634002632,
     "user": {
      "displayName": "YUBO WANG",
      "photoUrl": "",
      "userId": "04037309235043616004"
     },
     "user_tz": 300
    },
    "id": "rPSrTkq13gfv",
    "outputId": "1ebe84a8-c796-487a-bb99-d68c6dc0c1a2"
   },
   "outputs": [
    {
     "name": "stderr",
     "output_type": "stream",
     "text": [
      "/usr/local/lib/python3.6/dist-packages/seaborn/_decorators.py:43: FutureWarning: Pass the following variable as a keyword arg: y. From version 0.12, the only valid positional argument will be `data`, and passing other arguments without an explicit keyword will result in an error or misinterpretation.\n",
      "  FutureWarning\n",
      "/usr/local/lib/python3.6/dist-packages/seaborn/distributions.py:1657: FutureWarning: The `bw` parameter is deprecated in favor of `bw_method` and `bw_adjust`. Using 0.15 for `bw_method`, but please see the docs for the new parameters and update your code.\n",
      "  warnings.warn(msg, FutureWarning)\n"
     ]
    },
    {
     "data": {
      "image/png": "[encoded data removed]",
      "text/plain": [
       "<Figure size 226.8x226.8 with 1 Axes>"
      ]
     },
     "metadata": {
      "needs_background": "light",
      "tags": []
     },
     "output_type": "display_data"
    }
   ],
   "source": [
    "PATH = 'anonymous/Contour-Stochastic-Gradient-Langevin-Dynamics/'\n",
    "fig = plt.figure(figsize=(3.15, 3.15))\n",
    "\n",
    "warm_sample = 0\n",
    "split_ = 1\n",
    "svgd_x = svgd_x.reshape(-1,2)\n",
    "plt.subplot(1, 1, 1)\n",
    "ax = sns.kdeplot(sampler.x[:,0], sampler.x[:,1],  cmap=\"Blues\", shade=True, thresh=0.05, bw=0.15)\n",
    "ax.set_xlim(lower, upper)\n",
    "ax.set_ylim(lower, upper)\n",
    "plt.savefig(PATH+\"simulation_figures/single_SVGD.png\")"
   ]
  },
  {
   "cell_type": "code",
   "execution_count": null,
   "metadata": {
    "colab": {
     "base_uri": "https://localhost:8080/",
     "height": 265
    },
    "executionInfo": {
     "elapsed": 1488,
     "status": "ok",
     "timestamp": 1611633860462,
     "user": {
      "displayName": "YUBO WANG",
      "photoUrl": "",
      "userId": "04037309235043616004"
     },
     "user_tz": 300
    },
    "id": "uD_cPedepoDw",
    "outputId": "49b42205-4247-45e2-8d69-54e2213e834c"
   },
   "outputs": [
    {
     "data": {
      "image/png": "[encoded data removed]",
      "text/plain": [
       "<Figure size 288x288 with 1 Axes>"
      ]
     },
     "metadata": {
      "needs_background": "light",
      "tags": []
     },
     "output_type": "display_data"
    }
   ],
   "source": [
    "fig3 = plt.figure(figsize=(4, 4))\n",
    "#plt.contour(axis_X, axis_Y, prob_grid, 10)\n",
    "plt.yticks([-4, -2, 0, 2, 4]) \n",
    "plt.scatter(sampler.x[:,0], sampler.x[:,1], marker='.', s=3, color='k', label=\"Iteration=\"+str(iters)) \n",
    "plt.legend(loc=\"upper left\", prop={'size': 10})\n",
    "plt.xlim([lower, upper])\n",
    "plt.ylim([lower, upper])\n",
    "# plt.tight_layout()\n",
    "plt.show()\n",
    "fig3.canvas.draw()\n",
    "image3 = np.frombuffer(fig3.canvas.tostring_rgb(), dtype='uint8').reshape(fig3.canvas.get_width_height()[::-1] + (3,))\n",
    "my_images3.append(image3)\n",
    "fig3.savefig(PATH + \"samples.png\")\n",
    "plt.close('all')"
   ]
  },
  {
   "cell_type": "markdown",
   "metadata": {
    "id": "0MI271YgOjju"
   },
   "source": [
    "# Build Parallel Sampler"
   ]
  },
  {
   "cell_type": "markdown",
   "metadata": {
    "id": "IVOu04zaYQCX"
   },
   "source": [
    "Call our sampler"
   ]
  },
  {
   "cell_type": "code",
   "execution_count": null,
   "metadata": {
    "id": "EAE5YTN5YNDJ"
   },
   "outputs": [],
   "source": [
    "psampler = []\n",
    "for i in range(5):\n",
    "    xinit = np.random.uniform([lower, lower], [upper, upper], [100, 2])\n",
    "    psampler.append(Sampler(f=mixture, xinit=xinit, lr=3e-3, alpha=0.9))"
   ]
  },
  {
   "cell_type": "code",
   "execution_count": null,
   "metadata": {
    "id": "siwAiqY6YT9S"
   },
   "outputs": [],
   "source": [
    "warm_up = -1"
   ]
  },
  {
   "cell_type": "code",
   "execution_count": null,
   "metadata": {
    "colab": {
     "base_uri": "https://localhost:8080/",
     "height": 1000,
     "output_embedded_package_id": "1W4vkbkJBvd4yHNGvq4C_6wq2-gDzkXwE"
    },
    "executionInfo": {
     "elapsed": 4970071,
     "status": "ok",
     "timestamp": 1610596025528,
     "user": {
      "displayName": "YUBO WANG",
      "photoUrl": "",
      "userId": "04037309235043616004"
     },
     "user_tz": 300
    },
    "id": "dFGXLpqnYtgU",
    "outputId": "a8c7c6a9-5c78-4b7f-d7e9-21077ffac0d9"
   },
   "outputs": [
    {
     "data": {
      "text/plain": [
       "Output hidden; open in https://colab.research.google.com to view."
      ]
     },
     "metadata": {},
     "output_type": "display_data"
    }
   ],
   "source": [
    "my_images3 = []\n",
    "PATH = 'anonymous/Contour-Stochastic-Gradient-Langevin-Dynamics/SVGD_result/'\n",
    "if not os.path.isdir(PATH):\n",
    "    try:\n",
    "        os.makedirs(PATH)\n",
    "    except OSError as exc:  # Python >2.5\n",
    "        if exc.errno == errno.EEXIST and os.path.isdir(PATH):\n",
    "            pass\n",
    "        else:\n",
    "            raise\n",
    "\n",
    "svgd_x_path = []\n",
    "for iters in range(int(1e4)):\n",
    "    for i in range(5):\n",
    "      psampler[i].svgd_step(iters)\n",
    "    if iters > warm_up:\n",
    "        # save the sampels\n",
    "        svgd_x_path.append(np.array([psampler[i].x for i in range(5)]).reshape((-1,2)))\n",
    "        \n",
    "        if iters % 200 == 0:\n",
    "            svgd_x = np.array([psampler[i].x for i in range(5)]).reshape((-1,2))\n",
    "            fig3 = plt.figure(figsize=(4, 4))\n",
    "            plt.contour(axis_X, axis_Y, prob_grid, 10)\n",
    "            plt.yticks([-4, -2, 0, 2, 4]) \n",
    "            plt.scatter(svgd_x[:,0], svgd_x[:,1], marker='.', s=3, color='k', label=\"Iteration=\"+str(iters)) \n",
    "            plt.legend(loc=\"upper left\", prop={'size': 10})\n",
    "            plt.xlim([lower, upper])\n",
    "            plt.ylim([lower, upper])\n",
    "            # plt.tight_layout()\n",
    "            plt.show()\n",
    "            fig3.canvas.draw()\n",
    "            image3 = np.frombuffer(fig3.canvas.tostring_rgb(), dtype='uint8').reshape(fig3.canvas.get_width_height()[::-1] + (3,))\n",
    "            my_images3.append(image3)\n",
    "            plt.close('all')\n",
    "\n",
    "               \n",
    "          \n",
    "\n",
    "imageio.mimsave(PATH+'population_SVGD_contour_'+str(psampler[0].lr)+'.gif', my_images3, fps=50)      \n",
    "# imageio.mimsave(PATH+'CSGLD_PDF'+str(zeta)+\"_\"+str(psampler.lr)+\"_\"+str(psampler.T)+'.gif', my_images4, fps=50)\n",
    "\n",
    "# save the sampels\n",
    "import pickle\n",
    "f = open(PATH + 'population_SVGD_samples.txt', 'wb')\n",
    "pickle.dump(svgd_x_path, f)\n",
    "f.close()            "
   ]
  },
  {
   "cell_type": "code",
   "execution_count": null,
   "metadata": {
    "colab": {
     "base_uri": "https://localhost:8080/",
     "height": 323
    },
    "executionInfo": {
     "elapsed": 4969853,
     "status": "ok",
     "timestamp": 1610596027434,
     "user": {
      "displayName": "YUBO WANG",
      "photoUrl": "",
      "userId": "04037309235043616004"
     },
     "user_tz": 300
    },
    "id": "l0H68g03vSSf",
    "outputId": "905a1dc7-d794-42a9-ec6c-eedcb818ba7c"
   },
   "outputs": [
    {
     "name": "stderr",
     "output_type": "stream",
     "text": [
      "/usr/local/lib/python3.6/dist-packages/seaborn/_decorators.py:43: FutureWarning: Pass the following variable as a keyword arg: y. From version 0.12, the only valid positional argument will be `data`, and passing other arguments without an explicit keyword will result in an error or misinterpretation.\n",
      "  FutureWarning\n",
      "/usr/local/lib/python3.6/dist-packages/seaborn/distributions.py:1657: FutureWarning: The `bw` parameter is deprecated in favor of `bw_method` and `bw_adjust`. Using 0.15 for `bw_method`, but please see the docs for the new parameters and update your code.\n",
      "  warnings.warn(msg, FutureWarning)\n"
     ]
    },
    {
     "data": {
      "image/png": "[encoded data removed]",
      "text/plain": [
       "<Figure size 540x226.8 with 2 Axes>"
      ]
     },
     "metadata": {
      "needs_background": "light",
      "tags": []
     },
     "output_type": "display_data"
    }
   ],
   "source": [
    "fig = plt.figure(figsize=(7.5, 3.15))\n",
    "plt.subplot(1, 2, 1).set_title('(a) Ground truth')\n",
    "sns.heatmap(prob_grid, cmap=\"Blues\", cbar=False, xticklabels=False, yticklabels=False).invert_yaxis()\n",
    "\n",
    "warm_sample = 0\n",
    "split_ = 1\n",
    "svgd_x = svgd_x.reshape(-1,2)\n",
    "plt.subplot(1, 2, 2).set_title('(b) SVGD')\n",
    "ax = sns.kdeplot(svgd_x[:,0], svgd_x[:,1], cmap=\"Blues\", shade=True, thresh=0.05, bw=0.15)\n",
    "ax.set_xlim(lower, upper)\n",
    "ax.set_ylim(lower, upper)\n",
    "plt.savefig(PATH+\"SVGD_\"+str(psampler[0].lr)+\".png\")"
   ]
  },
  {
   "cell_type": "code",
   "execution_count": null,
   "metadata": {
    "colab": {
     "base_uri": "https://localhost:8080/",
     "height": 265
    },
    "executionInfo": {
     "elapsed": 4625765,
     "status": "ok",
     "timestamp": 1610242217675,
     "user": {
      "displayName": "YUBO WANG",
      "photoUrl": "",
      "userId": "04037309235043616004"
     },
     "user_tz": 300
    },
    "id": "NByp_s4BZSzc",
    "outputId": "d16e5a4d-f232-46cc-d1f2-db65a3cd9910"
   },
   "outputs": [
    {
     "data": {
      "image/png": "[encoded data removed]",
      "text/plain": [
       "<Figure size 288x288 with 1 Axes>"
      ]
     },
     "metadata": {
      "needs_background": "light",
      "tags": []
     },
     "output_type": "display_data"
    }
   ],
   "source": [
    "fig3 = plt.figure(figsize=(4, 4))\n",
    "# plt.contour(axis_X, axis_Y, prob_grid, 10)\n",
    "plt.yticks([-4, -2, 0, 2, 4]) \n",
    "plt.scatter(svgd_x[:,0], svgd_x[:,1], marker='.', s=3, color='k', label=\"Iteration=\"+str(iters)) \n",
    "plt.legend(loc=\"upper left\", prop={'size': 10})\n",
    "plt.xlim([lower, upper])\n",
    "plt.ylim([lower, upper])\n",
    "# plt.tight_layout()\n",
    "plt.show()\n",
    "fig3.canvas.draw()\n",
    "image3 = np.frombuffer(fig3.canvas.tostring_rgb(), dtype='uint8').reshape(fig3.canvas.get_width_height()[::-1] + (3,))\n",
    "my_images3.append(image3)\n",
    "fig3.savefig(PATH + \"samples.png\")\n",
    "plt.close('all')"
   ]
  },
  {
   "cell_type": "code",
   "execution_count": null,
   "metadata": {
    "id": "yFqY5YscOJnG"
   },
   "outputs": [],
   "source": []
  }
 ],
 "metadata": {
  "colab": {
   "authorship_tag": "ABX9TyOFhYR/wVUUJFYodlWZ3MlA",
   "name": "SVGD.ipynb",
   "provenance": []
  },
  "kernelspec": {
   "display_name": "Python 3",
   "language": "python",
   "name": "python3"
  },
  "language_info": {
   "codemirror_mode": {
    "name": "ipython",
    "version": 3
   },
   "file_extension": ".py",
   "mimetype": "text/x-python",
   "name": "python",
   "nbconvert_exporter": "python",
   "pygments_lexer": "ipython3",
   "version": "3.8.5"
  }
 },
 "nbformat": 4,
 "nbformat_minor": 1
}
