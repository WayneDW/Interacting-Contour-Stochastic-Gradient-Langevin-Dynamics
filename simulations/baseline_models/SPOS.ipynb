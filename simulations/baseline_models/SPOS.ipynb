{
 "cells": [
  {
   "cell_type": "code",
   "execution_count": null,
   "metadata": {
    "colab": {
     "base_uri": "https://localhost:8080/"
    },
    "executionInfo": {
     "elapsed": 19898,
     "status": "ok",
     "timestamp": 1611608063727,
     "user": {
      "displayName": "YUBO WANG",
      "photoUrl": "",
      "userId": "04037309235043616004"
     },
     "user_tz": 300
    },
    "id": "GPvl93lAgBwV",
    "outputId": "75f50b05-3203-4a3e-ecdc-7edec105b927"
   },
   "outputs": [],
   "source": [
    "import autograd.numpy as np\n",
    "from autograd import grad\n",
    "from autograd.numpy import log, sqrt, sin, cos, exp, pi, prod\n",
    "from autograd.numpy.random import normal, uniform\n",
    "from scipy.spatial.distance import pdist, squareform\n",
    "\n",
    "import matplotlib as mpl\n",
    "from mpl_toolkits.mplot3d import Axes3D\n",
    "import matplotlib.pyplot as plt\n",
    "import seaborn as sns\n",
    "from matplotlib import cm\n",
    "import imageio\n",
    "import os\n",
    "from google.colab import drive\n",
    "drive.mount('/content/drive')\n",
    "\n",
    "path = \"/content/drive/My Drive\"\n",
    "\n",
    "os.chdir(path)\n",
    "os.listdir(path)"
   ]
  },
  {
   "cell_type": "code",
   "execution_count": 2,
   "metadata": {
    "executionInfo": {
     "elapsed": 283,
     "status": "ok",
     "timestamp": 1611608072581,
     "user": {
      "displayName": "YUBO WANG",
      "photoUrl": "",
      "userId": "04037309235043616004"
     },
     "user_tz": 300
    },
    "id": "VGbs6GvcgINv"
   },
   "outputs": [],
   "source": [
    "np.set_printoptions(precision=3)\n",
    "np.set_printoptions(suppress=True)\n",
    "np.random.seed(2021)"
   ]
  },
  {
   "cell_type": "code",
   "execution_count": 3,
   "metadata": {
    "executionInfo": {
     "elapsed": 357,
     "status": "ok",
     "timestamp": 1611608073330,
     "user": {
      "displayName": "YUBO WANG",
      "photoUrl": "",
      "userId": "04037309235043616004"
     },
     "user_tz": 300
    },
    "id": "JNQhUl6qgJ2g"
   },
   "outputs": [],
   "source": [
    "def mixture(x):\n",
    "    energy = ((x[0]**2 + x[1]**2)/10 - (cos(2.0*pi*x[0]) + cos(2.0*pi*x[1]))) / 0.5 # 2\n",
    "    regularizer = ((x[0]**2 + x[1]**2) > 20) * ((x[0]**2 + x[1]**2) - 20)\n",
    "    return energy + regularizer\n",
    "\n",
    "\n",
    "def mixture_expand(x, y): return mixture([x, y])\n",
    "def function_plot(x, y): return np.exp(-mixture([x, y]))\n",
    "\n",
    "lower, upper = -2.5, 2.5\n",
    "axis_x = np.linspace(lower, upper, 500)\n",
    "axis_y = np.linspace(lower, upper, 500)\n",
    "axis_X, axis_Y = np.meshgrid(axis_x, axis_y)\n",
    "\n",
    "energy_grid = mixture_expand(axis_X, axis_Y)\n",
    "prob_grid = function_plot(axis_X, axis_Y)"
   ]
  },
  {
   "cell_type": "markdown",
   "metadata": {
    "id": "AKt2J-8zgL-K"
   },
   "source": [
    "# Build our sampler"
   ]
  },
  {
   "cell_type": "code",
   "execution_count": 4,
   "metadata": {
    "executionInfo": {
     "elapsed": 273,
     "status": "ok",
     "timestamp": 1611608075837,
     "user": {
      "displayName": "YUBO WANG",
      "photoUrl": "",
      "userId": "04037309235043616004"
     },
     "user_tz": 300
    },
    "id": "yD6QaYeXgNvN"
   },
   "outputs": [],
   "source": [
    "class Sampler:\n",
    "    def __init__(self, f=None, dim = 2, xinit=None, lr=1e-3, T = 1, alpha = 0.9, debug = False):\n",
    "        self.f = f\n",
    "        self.lr = lr\n",
    "        self.debug = debug\n",
    "        self.alpha = alpha\n",
    "        self.historical_grad = 0\n",
    "        self.T = T\n",
    "        self.dim = dim\n",
    "      \n",
    "         \n",
    "        # initialization for SGLD\n",
    "        self.x = np.array(xinit)\n",
    "        \n",
    "    def svgd_kernel(self, theta, h = -1):\n",
    "        sq_dist = pdist(theta)\n",
    "        pairwise_dists = squareform(sq_dist)**2\n",
    "        if h < 0: # if h < 0, using median trick\n",
    "            h = np.median(pairwise_dists)  \n",
    "            h = np.sqrt(0.5 * h / np.log(theta.shape[0]+1))\n",
    "\n",
    "        # compute the rbf kernel\n",
    "        Kxy = np.exp( -pairwise_dists / h**2 / 2)\n",
    "\n",
    "        dxkxy = -np.matmul(Kxy, theta)\n",
    "        sumkxy = np.sum(Kxy, axis=1)\n",
    "        for i in range(theta.shape[1]):\n",
    "            dxkxy[:, i] = dxkxy[:,i] + np.multiply(theta[:,i],sumkxy)\n",
    "        dxkxy = dxkxy / (h**2)\n",
    "        return (Kxy, dxkxy)\n",
    "    \n",
    "    def grad(self, beta):  return grad(self.f)(beta)\n",
    "\n",
    "    def spos_step(self, iter):  \n",
    "        # Check input\n",
    "        if self.x is None or self.f is None:\n",
    "            raise ValueError('x0 or lnprob cannot be None!')\n",
    "        \n",
    "        # adagrad with momentum\n",
    "        fudge_factor = 1e-6\n",
    "        if self.debug and (iter+1) % 1000 == 0:\n",
    "            print('iter ' + str(iter+1))\n",
    "        \n",
    "        lnpgrad = np.array([self.grad(self.x[i]) for i in range(self.x.shape[0])])\n",
    "        \n",
    "        # calculating the kernel matrix\n",
    "        kxy, dxkxy = self.svgd_kernel(self.x, h = -1)  \n",
    "        grad_x = (-np.matmul(kxy, lnpgrad) + dxkxy) / self.x.shape[0]  \n",
    "        \n",
    "        # # adagrad \n",
    "        # if iter == 0:\n",
    "        #     self.historical_grad = self.historical_grad + grad_x ** 2\n",
    "        # else:\n",
    "        #     self.historical_grad = self.alpha * self.historical_grad + (1 - self.alpha) * (grad_x ** 2)\n",
    "        # adj_grad = np.divide(grad_x, fudge_factor+np.sqrt(self.historical_grad))\n",
    "        \n",
    "        self.x += self.lr * (grad_x - self.T * lnpgrad) + np.sqrt(2. * self.lr * self.T) * normal(size=(self.x.shape[0], self.dim)) \n",
    "     "
   ]
  },
  {
   "cell_type": "code",
   "execution_count": 5,
   "metadata": {
    "executionInfo": {
     "elapsed": 253,
     "status": "ok",
     "timestamp": 1611608092144,
     "user": {
      "displayName": "YUBO WANG",
      "photoUrl": "",
      "userId": "04037309235043616004"
     },
     "user_tz": 300
    },
    "id": "8b67oO6KZD-x"
   },
   "outputs": [],
   "source": [
    "xinit = np.random.uniform([lower, lower], [upper, upper], [500, 2])\n",
    "sampler = Sampler(f=mixture, dim=2, xinit=xinit, lr=3e-3, alpha = 0.9)"
   ]
  },
  {
   "cell_type": "code",
   "execution_count": 6,
   "metadata": {
    "executionInfo": {
     "elapsed": 347,
     "status": "ok",
     "timestamp": 1611608773823,
     "user": {
      "displayName": "YUBO WANG",
      "photoUrl": "",
      "userId": "04037309235043616004"
     },
     "user_tz": 300
    },
    "id": "OSbaagsSZGfT"
   },
   "outputs": [],
   "source": [
    "warm_up = -1\n",
    "spos_x = np.array([sampler.x])"
   ]
  },
  {
   "cell_type": "code",
   "execution_count": 7,
   "metadata": {
    "colab": {
     "base_uri": "https://localhost:8080/",
     "height": 1000,
     "output_embedded_package_id": "1JjMD2POt0Kknsy_Ln7uiBNluzt0xQh_S"
    },
    "executionInfo": {
     "elapsed": 23648389,
     "status": "ok",
     "timestamp": 1611632426172,
     "user": {
      "displayName": "YUBO WANG",
      "photoUrl": "",
      "userId": "04037309235043616004"
     },
     "user_tz": 300
    },
    "id": "i5Sciv0tZIDf",
    "outputId": "9825af43-fd2e-4f2c-c183-6eb3000b117c"
   },
   "outputs": [
    {
     "data": {
      "text/plain": [
       "Output hidden; open in https://colab.research.google.com to view."
      ]
     },
     "metadata": {},
     "output_type": "display_data"
    }
   ],
   "source": [
    "my_images3 = []\n",
    "spos_x_path = []\n",
    "PATH = 'anonymous/Contour-Stochastic-Gradient-Langevin-Dynamics/SPOS_result/'\n",
    "if not os.path.isdir(PATH):\n",
    "    try:\n",
    "        os.makedirs(PATH)\n",
    "    except OSError as exc:  # Python >2.5\n",
    "        if exc.errno == errno.EEXIST and os.path.isdir(PATH):\n",
    "            pass\n",
    "        else:\n",
    "            raise\n",
    "\n",
    "for iters in range(int(5e4)):\n",
    "    sampler.spos_step(iters)\n",
    "    if iters > warm_up:\n",
    "        spos_x_path.append(sampler.x)\n",
    "        if iters % 1000 == 0:\n",
    "            fig3 = plt.figure(figsize=(4, 4))\n",
    "            plt.contour(axis_X, axis_Y, prob_grid, 10)\n",
    "            plt.yticks([-4, -2, 0, 2, 4]) \n",
    "            plt.scatter(sampler.x[:,0], sampler.x[:,1], marker='.', s=3, color='k', label=\"Iteration=\"+str(iters)) \n",
    "            plt.legend(loc=\"upper left\", prop={'size': 10})\n",
    "            plt.xlim([lower, upper])\n",
    "            plt.ylim([lower, upper])\n",
    "            # plt.tight_layout()\n",
    "            plt.show()\n",
    "            fig3.canvas.draw()\n",
    "            image3 = np.frombuffer(fig3.canvas.tostring_rgb(), dtype='uint8').reshape(fig3.canvas.get_width_height()[::-1] + (3,))\n",
    "            my_images3.append(image3)\n",
    "            plt.close('all')\n",
    "\n",
    "               \n",
    "          \n",
    "\n",
    "imageio.mimsave(PATH+'single_SPOS_contour_'+str(sampler.lr)+'.gif', my_images3, fps=50)      \n",
    "# imageio.mimsave(PATH+'CSGLD_PDF'+str(zeta)+\"_\"+str(psampler.lr)+\"_\"+str(psampler.T)+'.gif', my_images4, fps=50)\n",
    "\n",
    "# save the sampels\n",
    "import pickle\n",
    "f = open(PATH + 'single_SPOS_samples.txt', 'wb')\n",
    "pickle.dump(spos_x_path, f)\n",
    "f.close()            "
   ]
  },
  {
   "cell_type": "code",
   "execution_count": 10,
   "metadata": {
    "colab": {
     "base_uri": "https://localhost:8080/",
     "height": 323
    },
    "executionInfo": {
     "elapsed": 1732,
     "status": "ok",
     "timestamp": 1611634044242,
     "user": {
      "displayName": "YUBO WANG",
      "photoUrl": "",
      "userId": "04037309235043616004"
     },
     "user_tz": 300
    },
    "id": "-B_Xg5D4o5eH",
    "outputId": "607d77c0-fb55-436f-b129-1a358740405a"
   },
   "outputs": [
    {
     "name": "stderr",
     "output_type": "stream",
     "text": [
      "/usr/local/lib/python3.6/dist-packages/seaborn/_decorators.py:43: FutureWarning: Pass the following variable as a keyword arg: y. From version 0.12, the only valid positional argument will be `data`, and passing other arguments without an explicit keyword will result in an error or misinterpretation.\n",
      "  FutureWarning\n",
      "/usr/local/lib/python3.6/dist-packages/seaborn/distributions.py:1657: FutureWarning: The `bw` parameter is deprecated in favor of `bw_method` and `bw_adjust`. Using 0.15 for `bw_method`, but please see the docs for the new parameters and update your code.\n",
      "  warnings.warn(msg, FutureWarning)\n"
     ]
    },
    {
     "data": {
      "image/png": "[encoded data removed]",
      "text/plain": [
       "<Figure size 540x226.8 with 2 Axes>"
      ]
     },
     "metadata": {
      "needs_background": "light",
      "tags": []
     },
     "output_type": "display_data"
    }
   ],
   "source": [
    "PATH = 'anonymous/Contour-Stochastic-Gradient-Langevin-Dynamics/'\n",
    "fig = plt.figure(figsize=(7.5, 3.15))\n",
    "plt.subplot(1, 2, 1).set_title('(a) Ground truth')\n",
    "sns.heatmap(prob_grid, cmap=\"Blues\", cbar=False, xticklabels=False, yticklabels=False).invert_yaxis()\n",
    "\n",
    "warm_sample = 0\n",
    "split_ = 1\n",
    "spos_x = spos_x.reshape(-1,2)\n",
    "plt.subplot(1, 2, 2).set_title('(b) SPOS')\n",
    "ax = sns.kdeplot(sampler.x[:,0], sampler.x[:,1],  cmap=\"Blues\", shade=True, thresh=0.05, bw=0.15)\n",
    "ax.set_xlim(lower, upper)\n",
    "ax.set_ylim(lower, upper)\n",
    "plt.savefig(PATH+\"simulation_figures/SPOS.png\")"
   ]
  },
  {
   "cell_type": "code",
   "execution_count": 11,
   "metadata": {
    "colab": {
     "base_uri": "https://localhost:8080/",
     "height": 307
    },
    "executionInfo": {
     "elapsed": 1152,
     "status": "ok",
     "timestamp": 1611634223051,
     "user": {
      "displayName": "YUBO WANG",
      "photoUrl": "",
      "userId": "04037309235043616004"
     },
     "user_tz": 300
    },
    "id": "usxs0OET4j8Y",
    "outputId": "2045e164-8be0-428a-97b3-62b57ba2e987"
   },
   "outputs": [
    {
     "name": "stderr",
     "output_type": "stream",
     "text": [
      "/usr/local/lib/python3.6/dist-packages/seaborn/_decorators.py:43: FutureWarning: Pass the following variable as a keyword arg: y. From version 0.12, the only valid positional argument will be `data`, and passing other arguments without an explicit keyword will result in an error or misinterpretation.\n",
      "  FutureWarning\n",
      "/usr/local/lib/python3.6/dist-packages/seaborn/distributions.py:1657: FutureWarning: The `bw` parameter is deprecated in favor of `bw_method` and `bw_adjust`. Using 0.15 for `bw_method`, but please see the docs for the new parameters and update your code.\n",
      "  warnings.warn(msg, FutureWarning)\n"
     ]
    },
    {
     "data": {
      "image/png": "[encoded data removed]",
      "text/plain": [
       "<Figure size 226.8x226.8 with 1 Axes>"
      ]
     },
     "metadata": {
      "needs_background": "light",
      "tags": []
     },
     "output_type": "display_data"
    }
   ],
   "source": [
    "PATH = 'anonymous/Contour-Stochastic-Gradient-Langevin-Dynamics/'\n",
    "fig = plt.figure(figsize=(3.15, 3.15))\n",
    "\n",
    "warm_sample = 0\n",
    "split_ = 1\n",
    "spos_x = spos_x.reshape(-1,2)\n",
    "plt.subplot(1, 1, 1)\n",
    "ax = sns.kdeplot(sampler.x[:,0], sampler.x[:,1],  cmap=\"Blues\", shade=True, thresh=0.05, bw=0.15)\n",
    "ax.set_xlim(lower, upper)\n",
    "ax.set_ylim(lower, upper)\n",
    "plt.savefig(PATH+\"simulation_figures/SPOS.png\")"
   ]
  },
  {
   "cell_type": "code",
   "execution_count": 9,
   "metadata": {
    "colab": {
     "base_uri": "https://localhost:8080/",
     "height": 265
    },
    "executionInfo": {
     "elapsed": 3531,
     "status": "ok",
     "timestamp": 1611632429797,
     "user": {
      "displayName": "YUBO WANG",
      "photoUrl": "",
      "userId": "04037309235043616004"
     },
     "user_tz": 300
    },
    "id": "R_LKSulaxKrW",
    "outputId": "486e9933-9b14-46de-c440-1c36f16900d0"
   },
   "outputs": [
    {
     "data": {
      "image/png": "[encoded data removed]",
      "text/plain": [
       "<Figure size 288x288 with 1 Axes>"
      ]
     },
     "metadata": {
      "needs_background": "light",
      "tags": []
     },
     "output_type": "display_data"
    }
   ],
   "source": [
    "fig3 = plt.figure(figsize=(4, 4))\n",
    "plt.yticks([-4, -2, 0, 2, 4]) \n",
    "plt.scatter(sampler.x[:,0], sampler.x[:,1], marker='.', s=3, color='k', label=\"Iteration=\"+str(iters)) \n",
    "plt.legend(loc=\"upper left\", prop={'size': 10})\n",
    "plt.xlim([lower, upper])\n",
    "plt.ylim([lower, upper])\n",
    "# plt.tight_layout()\n",
    "plt.show()\n",
    "fig3.canvas.draw()\n",
    "image3 = np.frombuffer(fig3.canvas.tostring_rgb(), dtype='uint8').reshape(fig3.canvas.get_width_height()[::-1] + (3,))\n",
    "my_images3.append(image3)\n",
    "fig3.savefig( PATH + \"samples.png\")\n",
    "plt.close('all')\n"
   ]
  },
  {
   "cell_type": "markdown",
   "metadata": {
    "id": "zmJymjmgmh1_"
   },
   "source": []
  },
  {
   "cell_type": "markdown",
   "metadata": {
    "id": "FJ0uxAB_uhCX"
   },
   "source": [
    "# Build Parallel Sampler\n"
   ]
  },
  {
   "cell_type": "code",
   "execution_count": null,
   "metadata": {
    "id": "bqxhNFkqgzmD"
   },
   "outputs": [],
   "source": [
    "psampler = []\n",
    "for i in range(5):\n",
    "    xinit = np.random.uniform([lower, lower], [upper, upper], [100, 2])\n",
    "    psampler.append(Sampler(f=mixture, xinit=xinit, lr=3e-3, alpha = 0.9))"
   ]
  },
  {
   "cell_type": "code",
   "execution_count": null,
   "metadata": {
    "id": "Hdh__iZ-mvlM"
   },
   "outputs": [],
   "source": [
    "warm_up = -1"
   ]
  },
  {
   "cell_type": "code",
   "execution_count": null,
   "metadata": {
    "colab": {
     "base_uri": "https://localhost:8080/",
     "height": 1000,
     "output_embedded_package_id": "1qXOMJQ2H6YzvY7XWesiNyK-no8I0t-Rw"
    },
    "executionInfo": {
     "elapsed": 123428,
     "status": "error",
     "timestamp": 1610510906334,
     "user": {
      "displayName": "YUBO WANG",
      "photoUrl": "",
      "userId": "04037309235043616004"
     },
     "user_tz": 300
    },
    "id": "rzfKZMLuuqL6",
    "outputId": "3afcb20f-552a-49a9-916c-e2fc5a08bf2f"
   },
   "outputs": [
    {
     "data": {
      "text/plain": [
       "Output hidden; open in https://colab.research.google.com to view."
      ]
     },
     "metadata": {},
     "output_type": "display_data"
    }
   ],
   "source": [
    "my_images3 = []\n",
    "PATH = 'anonymous/Contour-Stochastic-Gradient-Langevin-Dynamics/SPOS_result/'\n",
    "if not os.path.isdir(PATH):\n",
    "    try:\n",
    "        os.makedirs(PATH)\n",
    "    except OSError as exc:  # Python >2.5\n",
    "        if exc.errno == errno.EEXIST and os.path.isdir(PATH):\n",
    "            pass\n",
    "        else:\n",
    "            raise\n",
    "\n",
    "spos_x_path = []\n",
    "for iters in range(int(1e4)):\n",
    "    for i in range(5):\n",
    "      psampler[i].spos_step(iters)\n",
    "    if iters > warm_up:\n",
    "        # save the sampels\n",
    "        spos_x_path.append(np.array([psampler[i].x for i in range(5)]).reshape((-1,2)))\n",
    "        if iters % 10 == 0:\n",
    "            spos_x = np.array([psampler[i].x for i in range(5)]).reshape((-1,2))\n",
    "            fig3 = plt.figure(figsize=(4, 4))\n",
    "            plt.contour(axis_X, axis_Y, prob_grid, 10)\n",
    "            plt.yticks([-4, -2, 0, 2, 4]) \n",
    "            plt.scatter(spos_x[:,0], spos_x[:,1], marker='.', s=3, color='k', label=\"Iteration=\"+str(iters)) \n",
    "            plt.legend(loc=\"upper left\", prop={'size': 10})\n",
    "            plt.xlim([lower, upper])\n",
    "            plt.ylim([lower, upper])\n",
    "            # plt.tight_layout()\n",
    "            plt.show()\n",
    "            fig3.canvas.draw()\n",
    "            image3 = np.frombuffer(fig3.canvas.tostring_rgb(), dtype='uint8').reshape(fig3.canvas.get_width_height()[::-1] + (3,))\n",
    "            my_images3.append(image3)\n",
    "            plt.close('all')\n",
    "\n",
    "               \n",
    "          \n",
    "\n",
    "imageio.mimsave(PATH+'population_SPOS_contour_'+str(psampler[0].lr)+'.gif', my_images3, fps=50)      \n",
    "# imageio.mimsave(PATH+'CSGLD_PDF'+str(zeta)+\"_\"+str(psampler.lr)+\"_\"+str(psampler.T)+'.gif', my_images4, fps=50)\n",
    "\n",
    "# save the sampels\n",
    "import pickle\n",
    "f = open(PATH + 'population_SPOS_samples.txt', 'wb')\n",
    "pickle.dump(spos_x_path, f)\n",
    "f.close()            "
   ]
  },
  {
   "cell_type": "code",
   "execution_count": null,
   "metadata": {
    "colab": {
     "base_uri": "https://localhost:8080/",
     "height": 323
    },
    "executionInfo": {
     "elapsed": 1742,
     "status": "ok",
     "timestamp": 1610512420036,
     "user": {
      "displayName": "YUBO WANG",
      "photoUrl": "",
      "userId": "04037309235043616004"
     },
     "user_tz": 300
    },
    "id": "aBqp3tkavBt9",
    "outputId": "9779be17-274f-4431-d94a-e81a75045733"
   },
   "outputs": [
    {
     "name": "stderr",
     "output_type": "stream",
     "text": [
      "/usr/local/lib/python3.6/dist-packages/seaborn/_decorators.py:43: FutureWarning: Pass the following variable as a keyword arg: y. From version 0.12, the only valid positional argument will be `data`, and passing other arguments without an explicit keyword will result in an error or misinterpretation.\n",
      "  FutureWarning\n",
      "/usr/local/lib/python3.6/dist-packages/seaborn/distributions.py:1657: FutureWarning: The `bw` parameter is deprecated in favor of `bw_method` and `bw_adjust`. Using 0.15 for `bw_method`, but please see the docs for the new parameters and update your code.\n",
      "  warnings.warn(msg, FutureWarning)\n"
     ]
    },
    {
     "data": {
      "image/png": "[encoded data removed]",
      "text/plain": [
       "<Figure size 540x226.8 with 2 Axes>"
      ]
     },
     "metadata": {
      "needs_background": "light",
      "tags": []
     },
     "output_type": "display_data"
    }
   ],
   "source": [
    "fig = plt.figure(figsize=(7.5, 3.15))\n",
    "plt.subplot(1, 2, 1).set_title('(a) Ground truth')\n",
    "sns.heatmap(prob_grid, cmap=\"Blues\", cbar=False, xticklabels=False, yticklabels=False).invert_yaxis()\n",
    "\n",
    "spos_x = spos_x.reshape(-1,2)\n",
    "plt.subplot(1, 2, 2).set_title('(b) SPOS')\n",
    "ax = sns.kdeplot(spos_x[:,0], spos_x[:,1],  cmap=\"Blues\", shade=True, thresh=0.05, bw=0.15)\n",
    "ax.set_xlim(lower, upper)\n",
    "ax.set_ylim(lower, upper)\n",
    "plt.savefig(PATH+\"population_SPOS_\"+str(psampler[0].lr)+\".png\")"
   ]
  },
  {
   "cell_type": "code",
   "execution_count": null,
   "metadata": {
    "id": "WD2tPA8JvyLk"
   },
   "outputs": [],
   "source": [
    "spos_x = np.array([psampler[i].x for i in range(5)]).reshape((-1,2))\n",
    "fig3 = plt.figure(figsize=(4, 4))\n",
    "# plt.contour(axis_X, axis_Y, prob_grid, 10)\n",
    "plt.yticks([-4, -2, 0, 2, 4]) \n",
    "plt.scatter(spos_x[:,0], spos_x[:,1], marker='.', s=3, color='k', label=\"Iteration=\"+str(iters)) \n",
    "plt.legend(loc=\"upper left\", prop={'size': 10})\n",
    "plt.xlim([lower, upper])\n",
    "plt.ylim([lower, upper])\n",
    "# plt.tight_layout()\n",
    "plt.show()\n",
    "fig3.canvas.draw()\n",
    "image3 = np.frombuffer(fig3.canvas.tostring_rgb(), dtype='uint8').reshape(fig3.canvas.get_width_height()[::-1] + (3,))\n",
    "my_images3.append(image3)\n",
    "fig3.savefig(PATH + \"samples.png\")\n",
    "plt.close('all')"
   ]
  },
  {
   "cell_type": "code",
   "execution_count": null,
   "metadata": {
    "id": "lwQ0jvvlPpcx"
   },
   "outputs": [],
   "source": []
  }
 ],
 "metadata": {
  "colab": {
   "authorship_tag": "ABX9TyPz2hb5EJiKvr6JflzTG4u0",
   "name": "SPOS.ipynb",
   "provenance": []
  },
  "kernelspec": {
   "display_name": "Python 3",
   "language": "python",
   "name": "python3"
  },
  "language_info": {
   "codemirror_mode": {
    "name": "ipython",
    "version": 3
   },
   "file_extension": ".py",
   "mimetype": "text/x-python",
   "name": "python",
   "nbconvert_exporter": "python",
   "pygments_lexer": "ipython3",
   "version": "3.8.5"
  }
 },
 "nbformat": 4,
 "nbformat_minor": 1
}
