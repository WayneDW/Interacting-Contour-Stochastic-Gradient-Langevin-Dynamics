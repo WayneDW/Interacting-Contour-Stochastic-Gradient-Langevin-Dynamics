{
 "cells": [
  {
   "cell_type": "code",
   "execution_count": null,
   "metadata": {
    "colab": {
     "base_uri": "https://localhost:8080/"
    },
    "executionInfo": {
     "elapsed": 21247,
     "status": "ok",
     "timestamp": 1612291061721,
     "user": {
      "displayName": "YUBO WANG",
      "photoUrl": "",
      "userId": "04037309235043616004"
     },
     "user_tz": 300
    },
    "id": "wOkWBE5om6yD",
    "outputId": "b913ceb7-1a39-4d63-f01c-9dd779af9b3e"
   },
   "outputs": [],
   "source": [
    "import pandas as pd\n",
    "import numpy as np\n",
    "import matplotlib.pyplot as plt\n",
    "import seaborn as sns\n",
    "from autograd.numpy import log, sqrt, sin, cos, exp, pi, prod\n",
    "from autograd.numpy.random import normal, uniform\n",
    "import os\n",
    "from scipy import stats\n",
    "from google.colab import drive\n",
    "drive.mount('/content/drive')\n",
    "\n",
    "path = \"/content/drive/My Drive\"\n",
    "\n",
    "os.chdir(path)\n",
    "os.listdir(path)"
   ]
  },
  {
   "cell_type": "code",
   "execution_count": null,
   "metadata": {
    "id": "qYqi0H4-nFtr"
   },
   "outputs": [],
   "source": [
    "# import data\n",
    "import pickle\n",
    "PATH = 'anonymous/Contour-Stochastic-Gradient-Langevin-Dynamics/'\n",
    "\n",
    "f = open(PATH + \"result/popCSGLD_samples.txt\", \"rb\")\n",
    "pop_csgld_epoch, pop_csgld_x = pickle.load(f)\n",
    "f.close()\n",
    "f = open(PATH + \"SGLD_result/pop_SGLD_samples.txt\", \"rb\")\n",
    "pop_sgld_epoch, pop_sgld_x = pickle.load(f)\n",
    "f.close()\n",
    "f = open(PATH + \"reSGLD_result/pop_reSGLD_samples_var30.txt\", \"rb\")\n",
    "resgld_epoch, resgld_x = pickle.load(f)\n",
    "f.close()\n",
    "f = open(PATH + \"cyclicalSGLD_result/cyclicalSGLD_samples.txt\", \"rb\")\n",
    "cyclicalsgld_epoch, cyclicalsgld_x = pickle.load(f)\n",
    "f.close()\n",
    "f = open(PATH + \"result/CSGLD/CSGLD_samples.txt\", \"rb\")\n",
    "csgld_epoch, csgld_x = pickle.load(f)\n",
    "f.close()"
   ]
  },
  {
   "cell_type": "code",
   "execution_count": null,
   "metadata": {
    "id": "s1jzs0-39mIV"
   },
   "outputs": [],
   "source": [
    "import pickle\n",
    "PATH = 'anonymous/Contour-Stochastic-Gradient-Langevin-Dynamics/'\n",
    "f = open(PATH + \"SPOS_result/population_SPOS_samples.txt\", \"rb\")\n",
    "pspos_x = pickle.load(f)\n",
    "f.close()\n",
    "f = open(PATH + \"SVGD_result/population_SVGD_samples.txt\", \"rb\")\n",
    "psvgd_x = pickle.load(f)\n",
    "f.close()\n",
    "f = open(PATH + \"SPOS_result/single_SPOS_samples.txt\", \"rb\")\n",
    "spos_x = pickle.load(f)\n",
    "f.close()\n",
    "f = open(PATH + \"SVGD_result/single_SVGD_samples.txt\", \"rb\")\n",
    "svgd_x = pickle.load(f)\n",
    "f.close()"
   ]
  },
  {
   "cell_type": "code",
   "execution_count": null,
   "metadata": {
    "id": "Z2SDPFYLpddP"
   },
   "outputs": [],
   "source": [
    "def mixture(x):\n",
    "    energy = ((x[0]**2 + x[1]**2)/10 - (cos(2.0*pi*x[0]) + cos(2.0*pi*x[1]))) / 0.5 # 2\n",
    "    regularizer = ((x[0]**2 + x[1]**2) > 20) * ((x[0]**2 + x[1]**2) - 20)\n",
    "    return energy + regularizer\n",
    "\n",
    "def mixture_expand(x, y): return mixture([x, y])\n",
    "def function_plot(x, y): return np.exp(-mixture([x, y]))\n",
    "\n",
    "lower, upper = -2.5, 2.5\n",
    "axis_x = np.linspace(lower, upper, 500)\n",
    "axis_y = np.linspace(lower, upper, 500)\n",
    "axis_X, axis_Y = np.meshgrid(axis_x, axis_y)\n",
    "\n",
    "energy_grid = mixture_expand(axis_X, axis_Y)\n",
    "prob_grid = function_plot(axis_X, axis_Y)\n",
    "pmax = np.max(prob_grid)"
   ]
  },
  {
   "cell_type": "markdown",
   "metadata": {
    "id": "tysQFGHgRgph"
   },
   "source": [
    "generate samples from the true density"
   ]
  },
  {
   "cell_type": "code",
   "execution_count": null,
   "metadata": {
    "id": "mARPrHRZ448K"
   },
   "outputs": [],
   "source": [
    "# # generate samples from the true density\n",
    "# def rejection_sampler(p,xbounds,pmax):\n",
    "#     while True:\n",
    "#         x = [np.random.rand(1)*(xbounds[1]-xbounds[0])+xbounds[0] for _ in range(2)]\n",
    "#         y = np.random.rand(1)*pmax\n",
    "#         if y<=p(x[0], x[1]):\n",
    "#             return x"
   ]
  },
  {
   "cell_type": "code",
   "execution_count": null,
   "metadata": {
    "id": "70GvMaaz6KOj"
   },
   "outputs": [],
   "source": [
    "# true_samples = []\n",
    "# for iter in range(50000):\n",
    "#     sample = rejection_sampler(function_plot,[lower, upper],pmax)\n",
    "#     if sample:\n",
    "#         true_samples.append(sample)\n"
   ]
  },
  {
   "cell_type": "code",
   "execution_count": null,
   "metadata": {
    "id": "sE7kGufH6zi4"
   },
   "outputs": [],
   "source": [
    "# true_samples = np.array(true_samples)\n",
    "# true_samples = true_samples.reshape((-1,2))\n",
    "# import pickle\n",
    "# f = open(PATH + \"simulation_figures/true_samples.txt\", 'wb')\n",
    "# pickle.dump(true_samples, f)\n",
    "# f.close()"
   ]
  },
  {
   "cell_type": "code",
   "execution_count": null,
   "metadata": {
    "id": "S1x1ojj8ohSB"
   },
   "outputs": [],
   "source": [
    "f = open(PATH + \"simulation_figures/true_samples.txt\", 'rb')\n",
    "true_samples = pickle.load(f)\n",
    "f.close()"
   ]
  },
  {
   "cell_type": "code",
   "execution_count": null,
   "metadata": {
    "colab": {
     "base_uri": "https://localhost:8080/",
     "height": 307
    },
    "executionInfo": {
     "elapsed": 60893,
     "status": "ok",
     "timestamp": 1612150917246,
     "user": {
      "displayName": "YUBO WANG",
      "photoUrl": "",
      "userId": "04037309235043616004"
     },
     "user_tz": 300
    },
    "id": "2bOydkbl69Fk",
    "outputId": "139d03fd-697d-48cb-fa4c-54e8ffb907c3"
   },
   "outputs": [
    {
     "name": "stderr",
     "output_type": "stream",
     "text": [
      "/usr/local/lib/python3.6/dist-packages/seaborn/_decorators.py:43: FutureWarning: Pass the following variable as a keyword arg: y. From version 0.12, the only valid positional argument will be `data`, and passing other arguments without an explicit keyword will result in an error or misinterpretation.\n",
      "  FutureWarning\n",
      "/usr/local/lib/python3.6/dist-packages/seaborn/distributions.py:1657: FutureWarning: The `bw` parameter is deprecated in favor of `bw_method` and `bw_adjust`. Using 0.15 for `bw_method`, but please see the docs for the new parameters and update your code.\n",
      "  warnings.warn(msg, FutureWarning)\n"
     ]
    },
    {
     "data": {
      "image/png": "[encoded data removed]",
      "text/plain": [
       "<Figure size 226.8x226.8 with 1 Axes>"
      ]
     },
     "metadata": {
      "needs_background": "light",
      "tags": []
     },
     "output_type": "display_data"
    }
   ],
   "source": [
    "# plot true samples\n",
    "warm_sample = 50\n",
    "split_ = 1\n",
    "fig = plt.figure(figsize=(3.15, 3.15))\n",
    "ax = sns.kdeplot(true_samples[:,0], true_samples[:,1],  cmap=\"Blues\", shade=True, thresh=0.05, bw=0.15)\n",
    "ax.set_xlim(lower, upper)\n",
    "ax.set_ylim(lower, upper)\n",
    "plt.savefig('anonymous/Contour-Stochastic-Gradient-Langevin-Dynamics/simulation_figures/true_samples.png')"
   ]
  },
  {
   "cell_type": "markdown",
   "metadata": {
    "id": "njsQpIVFRlIy"
   },
   "source": [
    "Calculate the KL divergence"
   ]
  },
  {
   "cell_type": "code",
   "execution_count": null,
   "metadata": {
    "id": "apdTjSN7pinQ"
   },
   "outputs": [],
   "source": [
    "def KLdivergence(x, y):\n",
    "    \"\"\"Compute the Kullback-Leibler divergence between two multivariate samples.\n",
    "    Parameters\n",
    "    ----------\n",
    "    x : 2D array (n,d)\n",
    "      Samples from distribution P, which typically represents the true\n",
    "      distribution.\n",
    "    y : 2D array (m,d)\n",
    "      Samples from distribution Q, which typically represents the approximate\n",
    "      distribution.\n",
    "    Returns\n",
    "    -------\n",
    "    out : float\n",
    "      The estimated Kullback-Leibler divergence D(P||Q).\n",
    "    References\n",
    "    ----------\n",
    "    Pérez-Cruz, F. Kullback-Leibler divergence estimation of\n",
    "  continuous distributions IEEE International Symposium on Information\n",
    "  Theory, 2008.\n",
    "    \"\"\"\n",
    "    from scipy.spatial import cKDTree as KDTree\n",
    "\n",
    "    # Check the dimensions are consistent\n",
    "    x = np.atleast_2d(x)\n",
    "    y = np.atleast_2d(y)\n",
    "\n",
    "    n,d = x.shape\n",
    "    m,dy = y.shape\n",
    "\n",
    "    assert(d == dy)\n",
    "\n",
    "\n",
    "    # Build a KD tree representation of the samples and find the nearest neighbour\n",
    "    # of each point in x.\n",
    "    xtree = KDTree(x)\n",
    "    ytree = KDTree(y)\n",
    "\n",
    "    # Get the first two nearest neighbours for x, since the closest one is the\n",
    "    # sample itself.\n",
    "    r = xtree.query(x, k=2, eps=.01, p=2)[0][:,1]\n",
    "    s = ytree.query(x, k=1, eps=.01, p=2)[0]\n",
    "\n",
    "    # There is a mistake in the paper. In Eq. 14, the right side misses a negative sign\n",
    "    # on the first term of the right hand side.\n",
    "    return -np.log(r/s).sum() * d / n + np.log(m / (n - 1.))"
   ]
  },
  {
   "cell_type": "code",
   "execution_count": null,
   "metadata": {
    "id": "f2o4KB7DUGob"
   },
   "outputs": [],
   "source": [
    "cyclicalsgld_kl = []\n",
    "cyclicalsgld_epochs = []\n",
    "for repeat in range(20):\n",
    "    cyclicalsgld_path = []\n",
    "    cyclicalsgld_epoch_path = []  \n",
    "    for i in range(100, cyclicalsgld_x[repeat].shape[0]):\n",
    "        cyclicalsgld_path.append(KLdivergence(true_samples, cyclicalsgld_x[repeat][:i,:]))\n",
    "        cyclicalsgld_epoch_path.append(cyclicalsgld_epoch[repeat][i])\n",
    "    cyclicalsgld_kl.append(cyclicalsgld_path)\n",
    "    cyclicalsgld_epochs.append(cyclicalsgld_epoch_path)"
   ]
  },
  {
   "cell_type": "code",
   "execution_count": null,
   "metadata": {
    "id": "b_AzBGQLLudi"
   },
   "outputs": [],
   "source": [
    "PATH = \"anonymous/Contour-Stochastic-Gradient-Langevin-Dynamics/simulation_figures/\"\n",
    "import pickle\n",
    "f = open(PATH + 'cyclicalsgld_kl.txt', 'wb')\n",
    "pickle.dump([cyclicalsgld_epochs, cyclicalsgld_kl], f)\n",
    "f.close()"
   ]
  },
  {
   "cell_type": "code",
   "execution_count": null,
   "metadata": {
    "id": "rwgRPDX0RUnK"
   },
   "outputs": [],
   "source": [
    "psgld_kl = []\n",
    "psgld_epochs = []\n",
    "for repeat in range(20):\n",
    "    psgld_path = []\n",
    "    psgld_epoch_path = []  \n",
    "    for i in range(100, pop_sgld_x[repeat].shape[0]):\n",
    "        psgld_path.append(KLdivergence(true_samples, pop_sgld_x[repeat][:i,:]))\n",
    "        psgld_epoch_path.append(pop_sgld_epoch[repeat][i])\n",
    "    psgld_kl.append(psgld_path)\n",
    "    psgld_epochs.append(psgld_epoch_path)"
   ]
  },
  {
   "cell_type": "code",
   "execution_count": null,
   "metadata": {
    "id": "7dCHBfFMRvzx"
   },
   "outputs": [],
   "source": [
    "PATH = \"anonymous/Contour-Stochastic-Gradient-Langevin-Dynamics/simulation_figures/\"\n",
    "import pickle\n",
    "f = open(PATH + 'psgld_kl.txt', 'wb')\n",
    "pickle.dump([psgld_epochs, psgld_kl], f)\n",
    "f.close()"
   ]
  },
  {
   "cell_type": "code",
   "execution_count": null,
   "metadata": {
    "id": "MhgkKHOr-esv"
   },
   "outputs": [],
   "source": [
    "resgld_kl = []\n",
    "resgld_epochs = []\n",
    "for repeat in range(20):\n",
    "    resgld_path = []\n",
    "    resgld_epoch_path = []  \n",
    "    for i in range(100, resgld_x[repeat].shape[0]):\n",
    "        resgld_path.append(KLdivergence(true_samples, resgld_x[repeat][:i,:]))\n",
    "        resgld_epoch_path.append(resgld_epoch[repeat][i])\n",
    "    resgld_kl.append(resgld_path)\n",
    "    resgld_epochs.append(resgld_epoch_path)"
   ]
  },
  {
   "cell_type": "code",
   "execution_count": null,
   "metadata": {
    "id": "WS5zQvzG-2rC"
   },
   "outputs": [],
   "source": [
    "PATH = \"anonymous/Contour-Stochastic-Gradient-Langevin-Dynamics/simulation_figures/\"\n",
    "import pickle\n",
    "f = open(PATH + 'resgld_kl.txt', 'wb')\n",
    "pickle.dump([resgld_epochs, resgld_kl], f)\n",
    "f.close()"
   ]
  },
  {
   "cell_type": "code",
   "execution_count": null,
   "metadata": {
    "id": "eUOUMTkPrpZh"
   },
   "outputs": [],
   "source": [
    "pcsgld_kl = []\n",
    "pcsgld_epochs = []\n",
    "for repeat in range(20):\n",
    "    pcsgld_path = []\n",
    "    pcsgld_epoch_path = []  \n",
    "    for i in range(100, pop_csgld_x[repeat].shape[0]):\n",
    "        pcsgld_path.append(KLdivergence(true_samples, pop_csgld_x[repeat][:i,:]))\n",
    "        pcsgld_epoch_path.append(pop_csgld_epoch[repeat][i])\n",
    "    pcsgld_kl.append(pcsgld_path)\n",
    "    pcsgld_epochs.append(pcsgld_epoch_path)"
   ]
  },
  {
   "cell_type": "code",
   "execution_count": null,
   "metadata": {
    "id": "ed8lyHX4_Cbb"
   },
   "outputs": [],
   "source": [
    "PATH = \"anonymous/Contour-Stochastic-Gradient-Langevin-Dynamics/simulation_figures/\"\n",
    "import pickle\n",
    "f = open(PATH + 'pcsgld_kl.txt', 'wb')\n",
    "pickle.dump([pcsgld_epochs, pcsgld_kl], f)\n",
    "f.close()"
   ]
  },
  {
   "cell_type": "code",
   "execution_count": null,
   "metadata": {
    "id": "st8GwYYyY2fi"
   },
   "outputs": [],
   "source": [
    "csgld_kl = []\n",
    "csgld_epochs = []\n",
    "for repeat in range(20):\n",
    "    csgld_path = []\n",
    "    csgld_epoch_path = []  \n",
    "    for i in range(100, csgld_x[repeat].shape[0]):\n",
    "        csgld_path.append(KLdivergence(true_samples, csgld_x[repeat][:i,:]))\n",
    "        csgld_epoch_path.append(csgld_epoch[repeat][i])\n",
    "    csgld_kl.append(csgld_path)\n",
    "    csgld_epochs.append(csgld_epoch_path)"
   ]
  },
  {
   "cell_type": "code",
   "execution_count": null,
   "metadata": {
    "id": "5PMzzPIUZteE"
   },
   "outputs": [],
   "source": [
    "PATH = \"anonymous/Contour-Stochastic-Gradient-Langevin-Dynamics/simulation_figures/\"\n",
    "import pickle\n",
    "f = open(PATH + 'csgld_kl.txt', 'wb')\n",
    "pickle.dump([csgld_epochs, csgld_kl], f)\n",
    "f.close()"
   ]
  },
  {
   "cell_type": "markdown",
   "metadata": {
    "id": "Z78DnLjX_YAt"
   },
   "source": [
    "# Plot the KL divergence vs time step"
   ]
  },
  {
   "cell_type": "markdown",
   "metadata": {
    "id": "RxQR6X46L857"
   },
   "source": [
    "## calculate the confidence interval"
   ]
  },
  {
   "cell_type": "code",
   "execution_count": null,
   "metadata": {
    "colab": {
     "base_uri": "https://localhost:8080/",
     "height": 232
    },
    "executionInfo": {
     "elapsed": 418,
     "status": "error",
     "timestamp": 1614199825893,
     "user": {
      "displayName": "YUBO WANG",
      "photoUrl": "",
      "userId": "04037309235043616004"
     },
     "user_tz": 300
    },
    "id": "WG7iK6giFmYN",
    "outputId": "c877ddbb-6bab-4f47-ed71-4ec52fe3af45"
   },
   "outputs": [],
   "source": [
    "# load the data\n",
    "PATH = \"anonymous/Contour-Stochastic-Gradient-Langevin-Dynamics/simulation_figures/\"\n",
    "import pickle\n",
    "f = open(PATH + 'psgld_kl.txt', 'rb')\n",
    "psgld_epochs, psgld_kl = pickle.load(f)\n",
    "f.close()\n",
    "f = open(PATH + 'cycSGLD_kl.txt', 'rb')\n",
    "cyclicalsgld_epochs, cyclicalsgld_kl = pickle.load(f)\n",
    "f.close()\n",
    "f = open(PATH + 'resgld_kl_var25.txt', 'rb')\n",
    "resgld_epochs, resgld_kl = pickle.load(f)\n",
    "f.close()\n",
    "f = open(PATH + 'pcsgld_kl.txt', 'rb')\n",
    "pcsgld_epochs, pcsgld_kl = pickle.load(f)\n",
    "f.close()\n",
    "f = open(PATH + 'csgld_kl.txt', 'rb')\n",
    "csgld_epochs, csgld_kl = pickle.load(f)\n",
    "f.close()"
   ]
  },
  {
   "cell_type": "code",
   "execution_count": null,
   "metadata": {
    "colab": {
     "base_uri": "https://localhost:8080/",
     "height": 232
    },
    "id": "1prlPqno_XeL",
    "outputId": "e143dd45-aeb0-40a5-b124-f64ec61fd14a"
   },
   "outputs": [],
   "source": [
    "cyclicalsgld_kl_array = np.array(cyclicalsgld_kl)\n",
    "cyclicalsgld_epoch_array = np.array(cyclicalsgld_epochs)\n",
    "\n",
    "csgld_epoch_array = np.array(csgld_epochs)\n",
    "csgld_kl_array = np.array(csgld_kl)"
   ]
  },
  {
   "cell_type": "code",
   "execution_count": null,
   "metadata": {
    "id": "fADFEzNtidjg"
   },
   "outputs": [],
   "source": [
    "def process_data(kl, epochs):\n",
    "    # compute the average of five chains at each iteration\n",
    "    final_kl_avg = []\n",
    "    final_epoch = []\n",
    "    for i in range(20):\n",
    "        tmp = []\n",
    "        kl_avg, epoch_uniq = [], []\n",
    "        for j in range(len(kl[i])):\n",
    "            if not epoch_uniq:\n",
    "                epoch_uniq.append(epochs[i][j])\n",
    "                tmp.append(kl[i][j])\n",
    "            elif epoch_uniq[-1] == epochs[i][j]:\n",
    "                tmp.append(kl[i][j])\n",
    "            else:\n",
    "                kl_avg.append(np.mean(tmp))\n",
    "                tmp = [kl[i][j]]\n",
    "                epoch_uniq.append(epochs[i][j])\n",
    "        kl_avg.append(np.mean(tmp))\n",
    "        final_kl_avg.append(kl_avg)\n",
    "        final_epoch.append(epoch_uniq)\n",
    "    \n",
    "    # compute the mu and sd of the 20 trials\n",
    "    mu, sd, epoch_uniq = [], [], []\n",
    "    for i in range(final_epoch[0][-1], -1, -20):\n",
    "        tmp = []\n",
    "        for j in range(20):\n",
    "            if not final_epoch[j]:\n",
    "                continue\n",
    "            if final_epoch[j][-1] == i:\n",
    "                tmp.append(final_kl_avg[j].pop())\n",
    "                final_epoch[j].pop()\n",
    "        if tmp:\n",
    "          mu.append(np.mean(tmp))\n",
    "          sd.append(np.std(tmp)/np.sqrt(len(tmp)))\n",
    "          epoch_uniq.append(i)\n",
    "    return np.array(mu[::-1]), np.array(sd[::-1]), np.array(epoch_uniq[::-1])"
   ]
  },
  {
   "cell_type": "code",
   "execution_count": null,
   "metadata": {
    "id": "5TMqH8jRi_Fv"
   },
   "outputs": [],
   "source": [
    "psgld_mu, psgld_sd, psgld_epoch_uniq = process_data(psgld_kl, psgld_epochs)\n",
    "resgld_mu, resgld_sd, resgld_epoch_uniq = process_data(resgld_kl, resgld_epochs)\n",
    "pcsgld_mu, pcsgld_sd, pcsgld_epoch_uniq = process_data(pcsgld_kl, pcsgld_epochs)"
   ]
  },
  {
   "cell_type": "code",
   "execution_count": null,
   "metadata": {
    "id": "EcqX57PIpjg1"
   },
   "outputs": [],
   "source": [
    "csgld_mu, csgld_sd, csgld_epoch_uniq = process_data(csgld_kl, csgld_epochs)\n",
    "csgld_epoch_uniq = [csgld_epoch_uniq[i] / 5 for i in range(0, len(csgld_epoch_uniq))]"
   ]
  },
  {
   "cell_type": "code",
   "execution_count": null,
   "metadata": {
    "id": "YvUCuaW_AQBT"
   },
   "outputs": [],
   "source": [
    "cyclicalsgld_sd = np.array([np.std(cyclicalsgld_kl_array[:,i]) for i in range(0, cyclicalsgld_kl_array.shape[1])]) / np.sqrt(20)\n",
    "cyclicalsgld_mu = np.array([np.mean(cyclicalsgld_kl_array[:,i]) for i in range(0, cyclicalsgld_kl_array.shape[1])]) \n",
    "cyclicalsgld_epoch_uniq = [cyclicalsgld_epochs[0][i] / 5 for i in range(0, len(cyclicalsgld_epochs[0]))]"
   ]
  },
  {
   "cell_type": "code",
   "execution_count": null,
   "metadata": {
    "id": "qCZ9AzzTRA-T"
   },
   "outputs": [],
   "source": [
    "font1 = {'family' : 'Times New Roman',\n",
    "'weight' : 'normal',\n",
    "'size'   : 22,\n",
    "}\n",
    "\n",
    "font2 = {'family' : 'Times New Roman',\n",
    "'weight' : 'normal',\n",
    "'size'   : 22,\n",
    "}\n",
    "\n",
    "\n",
    "figsize = 9, 8\n",
    "plt.style.use('ggplot')\n",
    "figure, ax = plt.subplots(figsize=figsize)\n",
    "plt.grid(\"darkgrid\")\n",
    "\n",
    "plt.plot(csgld_epoch_uniq, csgld_mu, label=\"CSGLD xT5\", linewidth = 2, alpha=0.5, color=\"purple\")\n",
    "plt.fill_between(csgld_epoch_uniq, csgld_mu-csgld_sd, csgld_mu+csgld_sd,\n",
    "                  alpha = 0.3, color=\"purple\")\n",
    "plt.plot(cyclicalsgld_epoch_uniq, cyclicalsgld_mu, label=\"cycSGLD xT5\", linewidth = 2, alpha=0.5, color=\"purple\")\n",
    "plt.fill_between(cyclicalsgld_epoch_uniq, cyclicalsgld_mu-cyclicalsgld_sd, cyclicalsgld_mu+cyclicalsgld_sd,\n",
    "                  alpha = 0.3, color=\"purple\")\n",
    "plt.plot(psgld_epoch_uniq, psgld_mu, label=\"SGLD xP5\", linewidth = 2, alpha=0.5, color=\"red\")\n",
    "plt.fill_between(psgld_epoch_uniq, psgld_mu-psgld_sd, psgld_mu+psgld_sd,\n",
    "                  alpha = 0.3, color=\"red\")\n",
    "plt.plot(resgld_epoch_uniq, resgld_mu, label=\"reSGLD xP5\", linewidth = 2, alpha=0.6, color=\"steelblue\")\n",
    "plt.fill_between(resgld_epoch_uniq, resgld_mu-resgld_sd, resgld_mu+resgld_sd,\n",
    "                  alpha = 0.5, color=\"steelblue\")\n",
    "plt.plot(pcsgld_epoch_uniq, pcsgld_mu, label=\"ICSGLD xP5\", linewidth = 2, alpha=0.6, color=\"orange\")\n",
    "plt.fill_between(pcsgld_epoch_uniq, pcsgld_mu-pcsgld_sd, pcsgld_mu+pcsgld_sd,\n",
    "                  alpha = 0.4, color=\"orange\")\n",
    "plt.tick_params(labelsize=22, colors=\"black\")\n",
    "labels = ax.get_xticklabels() + ax.get_yticklabels()\n",
    "[label.set_fontname('Times New Roman') for label in labels]\n",
    "plt.subplots_adjust(left = 0.15,bottom=0.128)\n",
    "\n",
    "plt.legend(prop=font1)\n",
    "plt.ylabel(\"KL divergence\", font2, color=\"black\")\n",
    "plt.xlabel(\"Steps\", font2, color=\"black\")\n",
    "plt.savefig(PATH + 'kl_vs_time_step.png')\n",
    "plt.close()"
   ]
  },
  {
   "cell_type": "markdown",
   "metadata": {
    "id": "DKlr4JJcmdz7"
   },
   "source": [
    "# SVGD & SPOS"
   ]
  },
  {
   "cell_type": "code",
   "execution_count": null,
   "metadata": {
    "id": "EVuq9UzsgTC5"
   },
   "outputs": [],
   "source": [
    "psvgd_path = []\n",
    "svgd_path = []\n",
    "pspos_path = []\n",
    "spos_path = []\n",
    "pspos_x = np.array(pspos_x).reshape((-1,2))\n",
    "psvgd_x = np.array(psvgd_x).reshape((-1,2))\n",
    "for i in range(100, len(psvgd_x)):\n",
    "    psvgd_path.append(KLdivergence(true_samples, psvgd_x[i]))\n",
    "    pspos_path.append(KLdivergence(true_samples, pspos_x[i]))\n",
    "\n"
   ]
  },
  {
   "cell_type": "code",
   "execution_count": null,
   "metadata": {
    "id": "yJ8VBdgMbCbU"
   },
   "outputs": [],
   "source": [
    "for i in range(100, len(svgd_x)):\n",
    "    svgd_path.append(KLdivergence(true_samples, svgd_x[i]))\n",
    "    spos_path.append(KLdivergence(true_samples, spos_x[i]))\n",
    "\n",
    "PATH = \"anonymous/Contour-Stochastic-Gradient-Langevin-Dynamics/simulation_figures/\"\n",
    "import pickle\n",
    "f = open(PATH + 'particles_path.txt', 'wb')\n",
    "pickle.dump([psvgd_path, svgd_path, pspos_path, spos_path], f)\n",
    "f.close()"
   ]
  },
  {
   "cell_type": "code",
   "execution_count": null,
   "metadata": {
    "id": "DHvHj5SmmZqI"
   },
   "outputs": [],
   "source": [
    "x =  np.arange(100, 4e5, 20)\n",
    "plt.plot(x, pcsgld_path, label=\"pcsgld\")\n",
    "plt.plot(x, psgld_path, label=\"psgld\")\n",
    "plt.plot(x, csgld_path, label=\"csgld\")\n",
    "plt.plot(x, sgld_path, label=\"sgld\")\n",
    "plt.plot(epoch_path[99:], cyclicalsgld_path, label=\"cyclicalsgld\")\n",
    "\n",
    "plt.legend()\n",
    "plt.ylabel(\"KL divergence\")\n",
    "plt.xlabel(\"time steps\")"
   ]
  }
 ],
 "metadata": {
  "colab": {
   "authorship_tag": "ABX9TyMXdpJKVT6ZdpE9I0S0/GLF",
   "name": "Plot.ipynb",
   "provenance": []
  },
  "kernelspec": {
   "display_name": "Python 3",
   "language": "python",
   "name": "python3"
  },
  "language_info": {
   "codemirror_mode": {
    "name": "ipython",
    "version": 3
   },
   "file_extension": ".py",
   "mimetype": "text/x-python",
   "name": "python",
   "nbconvert_exporter": "python",
   "pygments_lexer": "ipython3",
   "version": "3.8.5"
  }
 },
 "nbformat": 4,
 "nbformat_minor": 1
}
