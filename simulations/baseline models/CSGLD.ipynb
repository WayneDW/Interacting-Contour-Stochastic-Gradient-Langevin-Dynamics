{
 "cells": [
  {
   "cell_type": "markdown",
   "metadata": {
    "id": "HysRBep9XkWM"
   },
   "source": [
    "# Contour Stochastic Gradient Langevin Dynamics"
   ]
  },
  {
   "cell_type": "markdown",
   "metadata": {
    "id": "2vGqaEV_XnCl"
   },
   "source": [
    "## Preliminaries"
   ]
  },
  {
   "cell_type": "code",
   "execution_count": null,
   "metadata": {
    "colab": {
     "base_uri": "https://localhost:8080/"
    },
    "executionInfo": {
     "elapsed": 20082,
     "status": "ok",
     "timestamp": 1612477412436,
     "user": {
      "displayName": "YUBO WANG",
      "photoUrl": "",
      "userId": "04037309235043616004"
     },
     "user_tz": 300
    },
    "id": "mYsmrtFjXezW",
    "outputId": "0a30cf04-56d9-4860-c34d-f1ca4f0dbd06"
   },
   "outputs": [],
   "source": [
    "import autograd.numpy as np\n",
    "from autograd import grad\n",
    "from autograd.numpy import log, sqrt, sin, cos, exp, pi, prod\n",
    "from autograd.numpy.random import normal, uniform\n",
    "\n",
    "import matplotlib as mpl\n",
    "from mpl_toolkits.mplot3d import Axes3D\n",
    "import matplotlib.pyplot as plt\n",
    "import seaborn as sns\n",
    "from matplotlib import cm\n",
    "import imageio\n",
    "import os\n",
    "from google.colab import drive\n",
    "drive.mount('/content/drive')\n",
    "\n",
    "path = \"/content/drive/My Drive\"\n",
    "\n",
    "os.chdir(path)\n",
    "os.listdir(path)"
   ]
  },
  {
   "cell_type": "code",
   "execution_count": 3,
   "metadata": {
    "executionInfo": {
     "elapsed": 215,
     "status": "ok",
     "timestamp": 1612477413492,
     "user": {
      "displayName": "YUBO WANG",
      "photoUrl": "",
      "userId": "04037309235043616004"
     },
     "user_tz": 300
    },
    "id": "EGDm-0ChXp3Q"
   },
   "outputs": [],
   "source": [
    "np.set_printoptions(precision=3)\n",
    "np.set_printoptions(suppress=True)\n",
    "np.random.seed(2021)"
   ]
  },
  {
   "cell_type": "markdown",
   "metadata": {
    "id": "B0lLhSOkXv_m"
   },
   "source": [
    "Build a non-convex energy function"
   ]
  },
  {
   "cell_type": "code",
   "execution_count": 4,
   "metadata": {
    "executionInfo": {
     "elapsed": 576,
     "status": "ok",
     "timestamp": 1612477415049,
     "user": {
      "displayName": "YUBO WANG",
      "photoUrl": "",
      "userId": "04037309235043616004"
     },
     "user_tz": 300
    },
    "id": "81_Xq2tUXtCe"
   },
   "outputs": [],
   "source": [
    "def mixture(x):\n",
    "    energy = ((x[0]**2 + x[1]**2)/10 - (cos(2.0*pi*x[0]) + cos(2.0*pi*x[1]))) / 0.5 # 2\n",
    "    regularizer = ((x[0]**2 + x[1]**2) > 20) * ((x[0]**2 + x[1]**2) - 20)\n",
    "    return energy + regularizer\n",
    "\n",
    "def mixture_expand(x, y): return mixture([x, y])\n",
    "def function_plot(x, y): return np.exp(-mixture([x, y]))\n",
    "\n",
    "lower, upper = -2.5, 2.5\n",
    "axis_x = np.linspace(lower, upper, 500)\n",
    "axis_y = np.linspace(lower, upper, 500)\n",
    "axis_X, axis_Y = np.meshgrid(axis_x, axis_y)\n",
    "\n",
    "energy_grid = mixture_expand(axis_X, axis_Y)\n",
    "prob_grid = function_plot(axis_X, axis_Y)"
   ]
  },
  {
   "cell_type": "markdown",
   "metadata": {
    "id": "18kaBnxvX0xj"
   },
   "source": [
    "Establish the upper and lower bound for the partions."
   ]
  },
  {
   "cell_type": "code",
   "execution_count": 5,
   "metadata": {
    "executionInfo": {
     "elapsed": 464,
     "status": "ok",
     "timestamp": 1612477417948,
     "user": {
      "displayName": "YUBO WANG",
      "photoUrl": "",
      "userId": "04037309235043616004"
     },
     "user_tz": 300
    },
    "id": "r5R5inTOY6LU"
   },
   "outputs": [],
   "source": [
    "lower_bound, upper_bound = np.min(energy_grid) - 1, np.max(energy_grid) + 1"
   ]
  },
  {
   "cell_type": "markdown",
   "metadata": {
    "id": "nQr4slgoX3UG"
   },
   "source": [
    "## Build Our Sampler"
   ]
  },
  {
   "cell_type": "code",
   "execution_count": 6,
   "metadata": {
    "executionInfo": {
     "elapsed": 323,
     "status": "ok",
     "timestamp": 1612477418377,
     "user": {
      "displayName": "YUBO WANG",
      "photoUrl": "",
      "userId": "04037309235043616004"
     },
     "user_tz": 300
    },
    "id": "hzGeKMALXs_c"
   },
   "outputs": [],
   "source": [
    "class Sampler:\n",
    "    def __init__(self, f=None, dim=None, boundary=None, xinit=None, \\\n",
    "                 partition=None, lr=0.1, T=1.0, zeta=1, decay_lr=100., parts=100, theta_init=[]):\n",
    "        self.f = f\n",
    "        self.dim = dim\n",
    "        self.lr = lr\n",
    "        self.T = T\n",
    "        self.zeta = zeta\n",
    "        self.decay_lr = decay_lr\n",
    "        self.parts = parts\n",
    "        \n",
    "        self.partition = partition # [energy lower bound, energy upper bound] -- U(x)\n",
    "        self.boundary = boundary # Domain boundary of X\n",
    "        \n",
    "        # initialization for CSGLD\n",
    "        self.x = np.array(xinit)\n",
    "        if not theta_init:\n",
    "            self.Gcum = np.array(range(self.parts, 0, -1)) * 1.0 / sum(range(self.parts, 0, -1))\n",
    "        else:\n",
    "            self.Gcum = np.array(theta_init)\n",
    "        self.div_f = (self.partition[1] - self.partition[0]) / self.parts\n",
    "        self.J = self.parts - 2\n",
    "\n",
    "    \n",
    "    def in_domain(self, beta): \n",
    "        return sum(map(lambda i: beta[i] < self.boundary[0] or beta[i] > self.boundary[1], range(self.dim))) == 0\n",
    "\n",
    "    def stochastic_grad(self, beta):  return grad(self.f)(beta) + 0.25*normal(size=self.dim)\n",
    "\n",
    "    def stochastic_f(self, beta): return self.f(beta.tolist()) + 0.25*normal(size=1)\n",
    "\n",
    "    # find the partition index J\n",
    "    def find_idx(self, beta): \n",
    "        return(min(int((self.stochastic_f(beta) - self.partition[0]) / self.div_f), self.parts - 2))\n",
    "    \n",
    "    def csgld_step(self, iters):        \n",
    "        self.grad_mul = 1 + self.zeta * self.T * (np.log(self.Gcum[self.J+1]) - np.log(self.Gcum[self.J])) / self.div_f\n",
    "        proposal = self.x - self.lr * self.grad_mul * self.stochastic_grad(self.x) + sqrt(2. * self.lr * self.T) * normal(size=self.dim)\n",
    "        \n",
    "        if self.in_domain(proposal):\n",
    "            self.x = proposal\n",
    "        self.J = self.find_idx(self.x)\n",
    "        \n",
    "        step_size = min(self.decay_lr, 1./(iters**0.6+100))\n",
    "        self.Gcum[:self.J] = self.Gcum[:self.J] + step_size * self.Gcum[self.J]**self.zeta * (-self.Gcum[:self.J])\n",
    "        self.Gcum[self.J] = self.Gcum[self.J] + step_size * self.Gcum[self.J]**self.zeta * (1 - self.Gcum[self.J])\n",
    "        self.Gcum[(self.J+1):] = self.Gcum[(self.J+1):] + step_size * self.Gcum[self.J]**self.zeta * (-self.Gcum[(self.J+1):])"
   ]
  },
  {
   "cell_type": "markdown",
   "metadata": {
    "id": "EmShRC4DYHX4"
   },
   "source": [
    "## Call Our Sampler"
   ]
  },
  {
   "cell_type": "code",
   "execution_count": 7,
   "metadata": {
    "executionInfo": {
     "elapsed": 2677,
     "status": "ok",
     "timestamp": 1612477423404,
     "user": {
      "displayName": "YUBO WANG",
      "photoUrl": "",
      "userId": "04037309235043616004"
     },
     "user_tz": 300
    },
    "id": "wM7xjsJmXs8l"
   },
   "outputs": [],
   "source": [
    "zeta = 0.75\n",
    "PATH = 'anonymous/Contour-Stochastic-Gradient-Langevin-Dynamics/result/'\n",
    "import pickle\n",
    "f = open(PATH + 'initialization.txt', 'rb')\n",
    "theta = pickle.load(f)\n",
    "sampler = Sampler(f=mixture, dim=2, boundary=[lower, upper], xinit=[2.,2.], \\\n",
    "                  partition=[lower_bound, upper_bound], lr=3e-3, T=1, zeta=zeta, decay_lr=3e-3, parts=100, theta_init=theta)"
   ]
  },
  {
   "cell_type": "markdown",
   "metadata": {
    "id": "2lVRu7dxaA8t"
   },
   "source": [
    "##Compute the exact energy *PDF*"
   ]
  },
  {
   "cell_type": "code",
   "execution_count": 8,
   "metadata": {
    "executionInfo": {
     "elapsed": 365,
     "status": "ok",
     "timestamp": 1612477423784,
     "user": {
      "displayName": "YUBO WANG",
      "photoUrl": "",
      "userId": "04037309235043616004"
     },
     "user_tz": 300
    },
    "id": "t2bubVC8aEyx"
   },
   "outputs": [],
   "source": [
    "exact_energy_pdf = []\n",
    "energy_unit = (upper_bound - lower_bound) * 1.0 / sampler.parts\n",
    "exact_energy_grids = lower_bound + np.arange(sampler.parts) * energy_unit\n",
    "\n",
    "fine_axis_x = np.linspace(lower, upper, 500)\n",
    "fine_axis_y = np.linspace(lower, upper, 500)\n",
    "fine_axis_X, fine_axis_Y = np.meshgrid(fine_axis_x, fine_axis_y)\n",
    "\n",
    "fine_energy_grid = mixture_expand(fine_axis_X, fine_axis_Y)\n",
    "fine_prob_grid = function_plot(fine_axis_X, fine_axis_Y)\n",
    "fine_prob_grid /= fine_prob_grid.sum()\n",
    "for ii in range(sampler.parts):\n",
    "    tag = (fine_energy_grid > lower_bound + ii * energy_unit) & (fine_energy_grid < lower_bound + (ii + 1) * energy_unit)\n",
    "    exact_energy_pdf.append(fine_prob_grid[tag].sum())"
   ]
  },
  {
   "cell_type": "markdown",
   "metadata": {
    "id": "czoNLB-5YMfU"
   },
   "source": [
    "## Simulate from a flat density and record the importance weights¶\n"
   ]
  },
  {
   "cell_type": "code",
   "execution_count": 9,
   "metadata": {
    "executionInfo": {
     "elapsed": 275,
     "status": "ok",
     "timestamp": 1612237161996,
     "user": {
      "displayName": "YUBO WANG",
      "photoUrl": "",
      "userId": "04037309235043616004"
     },
     "user_tz": 300
    },
    "id": "vuVttfdtXs5Q"
   },
   "outputs": [],
   "source": [
    "warm_up = 5000\n",
    "csgld_x = np.array([sampler.x])\n",
    "importance_weights = [0.,]"
   ]
  },
  {
   "cell_type": "code",
   "execution_count": 10,
   "metadata": {
    "colab": {
     "base_uri": "https://localhost:8080/",
     "height": 1000,
     "output_embedded_package_id": "16VT7iYqsRa2OIOiNLRj7HcLkMGUSljl4"
    },
    "executionInfo": {
     "elapsed": 458059,
     "status": "ok",
     "timestamp": 1612237620283,
     "user": {
      "displayName": "YUBO WANG",
      "photoUrl": "",
      "userId": "04037309235043616004"
     },
     "user_tz": 300
    },
    "id": "TAmWHy_VXs1Y",
    "outputId": "777155ba-22dc-4347-b24d-9ab9e5dcce71"
   },
   "outputs": [
    {
     "data": {
      "text/plain": [
       "Output hidden; open in https://colab.research.google.com to view."
      ]
     },
     "metadata": {},
     "output_type": "display_data"
    }
   ],
   "source": [
    "my_images3, my_images4 = [], []\n",
    "history_samples = np.zeros(shape=(0,80))\n",
    "PATH = 'anonymous/Contour-Stochastic-Gradient-Langevin-Dynamics/result/single/'\n",
    "if not os.path.isdir(PATH):\n",
    "    try:\n",
    "        os.makedirs(PATH)\n",
    "    except OSError as exc:  # Python >2.5\n",
    "        if exc.errno == errno.EEXIST and os.path.isdir(PATH):\n",
    "            pass\n",
    "        else:\n",
    "            raise\n",
    "\n",
    "for iters in range(int(4e5)):\n",
    "    sampler.csgld_step(iters)\n",
    "    if iters > warm_up:\n",
    "        if iters % 20 == 0:\n",
    "            csgld_x = np.vstack((csgld_x, sampler.x))\n",
    "            importance_weights.append(sampler.Gcum[sampler.J]**zeta)\n",
    "        \n",
    "        if iters % 5000 == 0 and len(csgld_x[:,1]) > 5:\n",
    "            history_samples = np.vstack((history_samples, sampler.Gcum[:80]))\n",
    "            col_std = np.std(history_samples, 0) / sqrt(history_samples.shape[0])\n",
    "            \n",
    "            #plt.subplot(1, 2, 2).set_title('Energy PDF estimate', fontsize=18)\n",
    "            fig4=plt.figure(figsize=(4,4.2), frameon=False)\n",
    "            plt.cla()  \n",
    "            #plt.rcParams['legend.title_fontsize'] = 'small'\n",
    "            plt.plot(sampler.Gcum[:80], color='red', label=\"Estimation\", linewidth=1.5)\n",
    "            plt.plot(exact_energy_pdf[:80], color='black', label=\"Ground truth\", linewidth=1.5)\n",
    "            plt.legend(loc=\"upper right\", prop={'size': 13})\n",
    "            plt.ylim([0, 0.07])\n",
    "            plt.gca().axes.xaxis.set_visible(False)\n",
    "            plt.gca().axes.yaxis.set_visible(False)\n",
    "            #plt.xticks([0, 15, 30, 45, 60], np.round((map(exact_energy_grids.__getitem__, [0, 15, 30, 45, 60])), 1), fontsize=13)\n",
    "            #plt.yticks([0, 0.04, 0.08, 0.12], fontsize=18)\n",
    "            #plt.xlabel(\"Energy\", fontsize=13)\n",
    "            #plt.ylabel(\"Energy PDF\", fontsize=13)\n",
    "            plt.annotate(\"Higher energy\", fontsize=14, xy=(55, 0.005), xytext=(25, 0.03), arrowprops=dict(arrowstyle=\"->\"))\n",
    "            plt.title('Energy PDF estimate', fontsize=22)\n",
    "            plt.fill_between(range(80), sampler.Gcum[:80]-15*col_std, sampler.Gcum[:80]+15*col_std, color='red', alpha=.3)\n",
    "\n",
    "            plt.tight_layout()\n",
    "            plt.show()\n",
    "            fig4.canvas.draw()       # draw the canvas, cache the renderer\n",
    "            image4 = np.frombuffer(fig4.canvas.tostring_rgb(), dtype='uint8').reshape(fig4.canvas.get_width_height()[::-1] + (3,))\n",
    "            my_images4.append(image4)\n",
    "\n",
    "        if iters % 5000 == 0:\n",
    "            fig3 = plt.figure(figsize=(4, 4))\n",
    "            plt.contour(axis_X, axis_Y, prob_grid, 10)\n",
    "            plt.yticks([-4, -2, 0, 2, 4]) \n",
    "            plt.scatter(csgld_x[:,0], csgld_x[:,1], marker='.', s=3, color='k', label=\"Iteration=\"+str(iters)) \n",
    "            plt.legend(loc=\"upper left\", prop={'size': 10})\n",
    "            plt.xlim([lower, upper])\n",
    "            plt.ylim([lower, upper])\n",
    "            plt.tight_layout()\n",
    "            # plt.show()\n",
    "            fig3.canvas.draw()\n",
    "            image3 = np.frombuffer(fig3.canvas.tostring_rgb(), dtype='uint8').reshape(fig3.canvas.get_width_height()[::-1] + (3,))\n",
    "            my_images3.append(image3)\n",
    "\n",
    "imageio.mimsave(PATH + 'CSGLD_contour_'+str(zeta)+\"_\"+str(sampler.lr)+\"_\"+str(sampler.T)+'.gif', my_images3, fps=50)      \n",
    "imageio.mimsave(PATH + 'CSGLD_PDF'+str(zeta)+\"_\"+str(sampler.lr)+\"_\"+str(sampler.T)+'.gif', my_images4, fps=50)\n",
    "\n",
    "# save the sampels\n",
    "import pickle\n",
    "f = open(PATH + 'CSGLD_samples'+str(zeta)+\"_\"+str(sampler.lr)+\"_\"+str(sampler.T)+'.txt', 'wb')\n",
    "pickle.dump(csgld_x, f)\n",
    "f.close()  \n",
    "f = open(PATH + 'CSGLD_importance weight'+str(zeta)+\"_\"+str(sampler.lr)+\"_\"+str(sampler.T)+'.txt', 'wb')\n",
    "pickle.dump(importance_weights, f)\n",
    "f.close()  "
   ]
  },
  {
   "cell_type": "markdown",
   "metadata": {
    "id": "dft27KaXYXW6"
   },
   "source": [
    "## Resampling via importance weights"
   ]
  },
  {
   "cell_type": "markdown",
   "metadata": {
    "id": "7TiO31XXYY4i"
   },
   "source": [
    "Note that the flat density is not what we want. To recover the original density, we need to reweight the samples according to the importance weights."
   ]
  },
  {
   "cell_type": "code",
   "execution_count": 13,
   "metadata": {
    "executionInfo": {
     "elapsed": 888,
     "status": "ok",
     "timestamp": 1612477641373,
     "user": {
      "displayName": "YUBO WANG",
      "photoUrl": "",
      "userId": "04037309235043616004"
     },
     "user_tz": 300
    },
    "id": "-ryilZe7XslI"
   },
   "outputs": [],
   "source": [
    "import pickle\n",
    "PATH = 'anonymous/Contour-Stochastic-Gradient-Langevin-Dynamics/result/single/'\n",
    "f = open(PATH + 'CSGLD_samples'+str(zeta)+\"_\"+str(sampler.lr)+\"_\"+str(sampler.T)+'.txt', 'rb')\n",
    "csgld_x = pickle.load(f)\n",
    "f.close()\n",
    "f = open(PATH + 'CSGLD_importance weight'+str(zeta)+\"_\"+str(sampler.lr)+\"_\"+str(sampler.T)+'.txt', 'rb')\n",
    "importance_weights = pickle.load(f)\n",
    "f.close()\n",
    "\n",
    "scaled_importance_weights = importance_weights / np.mean(importance_weights)\n",
    "\n",
    "resample_x = np.empty((0,2))\n",
    "for i in range(len(csgld_x)):\n",
    "    while scaled_importance_weights[i] > 1:\n",
    "        tag = np.random.binomial(1, p=min(1, scaled_importance_weights[i]))\n",
    "        scaled_importance_weights[i] -= 1\n",
    "        if tag == 1:\n",
    "            resample_x = np.vstack((resample_x, csgld_x[i,]))\n",
    "    if scaled_importance_weights[i] > np.random.uniform(0, 1):\n",
    "        resample_x = np.vstack((resample_x, csgld_x[i,]))\n"
   ]
  },
  {
   "cell_type": "code",
   "execution_count": 17,
   "metadata": {
    "colab": {
     "base_uri": "https://localhost:8080/",
     "height": 459
    },
    "executionInfo": {
     "elapsed": 49479,
     "status": "ok",
     "timestamp": 1612477982198,
     "user": {
      "displayName": "YUBO WANG",
      "photoUrl": "",
      "userId": "04037309235043616004"
     },
     "user_tz": 300
    },
    "id": "nWhuJyoDYes7",
    "outputId": "e6988d88-708f-4389-f8e9-02563e71c193"
   },
   "outputs": [
    {
     "name": "stderr",
     "output_type": "stream",
     "text": [
      "/usr/local/lib/python3.6/dist-packages/seaborn/_decorators.py:43: FutureWarning: Pass the following variable as a keyword arg: y. From version 0.12, the only valid positional argument will be `data`, and passing other arguments without an explicit keyword will result in an error or misinterpretation.\n",
      "  FutureWarning\n",
      "/usr/local/lib/python3.6/dist-packages/seaborn/distributions.py:1657: FutureWarning: The `bw` parameter is deprecated in favor of `bw_method` and `bw_adjust`. Using 0.15 for `bw_method`, but please see the docs for the new parameters and update your code.\n",
      "  warnings.warn(msg, FutureWarning)\n",
      "/usr/local/lib/python3.6/dist-packages/seaborn/distributions.py:1676: UserWarning: `shade_lowest` is now deprecated in favor of `thresh`. Setting `thresh=0.05`, but please update your code.\n",
      "  warnings.warn(msg, UserWarning)\n",
      "/usr/local/lib/python3.6/dist-packages/seaborn/_decorators.py:43: FutureWarning: Pass the following variable as a keyword arg: y. From version 0.12, the only valid positional argument will be `data`, and passing other arguments without an explicit keyword will result in an error or misinterpretation.\n",
      "  FutureWarning\n",
      "/usr/local/lib/python3.6/dist-packages/seaborn/distributions.py:1657: FutureWarning: The `bw` parameter is deprecated in favor of `bw_method` and `bw_adjust`. Using 0.15 for `bw_method`, but please see the docs for the new parameters and update your code.\n",
      "  warnings.warn(msg, FutureWarning)\n",
      "/usr/local/lib/python3.6/dist-packages/seaborn/distributions.py:1676: UserWarning: `shade_lowest` is now deprecated in favor of `thresh`. Setting `thresh=0.05`, but please update your code.\n",
      "  warnings.warn(msg, UserWarning)\n"
     ]
    },
    {
     "data": {
      "image/png": "[encoded data removed]",
      "text/plain": [
       "<Figure size 720x226.8 with 3 Axes>"
      ]
     },
     "metadata": {
      "needs_background": "light",
      "tags": []
     },
     "output_type": "display_data"
    }
   ],
   "source": [
    "fig = plt.figure(figsize=(10, 3.15))\n",
    "plt.subplot(1, 3, 1).set_title('(a) Ground truth')\n",
    "sns.heatmap(prob_grid, cmap=\"Blues\", cbar=False, xticklabels=False, yticklabels=False)\n",
    "\n",
    "warm_sample = 50\n",
    "split_ = 1\n",
    "plt.subplot(1, 3, 2).set_title('(b) CSGLD (before resampling)')\n",
    "ax = sns.kdeplot(csgld_x[:,0][::split_][warm_sample:], csgld_x[:,1][::split_][warm_sample:],  cmap=\"Blues\", shade=True, shade_lowest=False, bw=0.15)\n",
    "ax.set_xlim(upper, lower)\n",
    "ax.set_ylim(upper, lower)\n",
    "\n",
    "plt.subplot(1, 3, 3).set_title('(c) CSGLD (after resampling)')\n",
    "ax = sns.kdeplot(resample_x[:,0][::split_][warm_sample:], resample_x[:,1][::split_][warm_sample:], cmap=\"Blues\", shade=True, shade_lowest=False, bw=0.15)\n",
    "ax.set_xlim(upper, lower)\n",
    "ax.set_ylim(upper, lower)\n",
    "\n",
    "plt.savefig(PATH + \"single_\"+str(zeta)+\"_\"+str(sampler.lr)+\"_\"+str(sampler.T)+\".png\")"
   ]
  },
  {
   "cell_type": "code",
   "execution_count": 16,
   "metadata": {
    "colab": {
     "base_uri": "https://localhost:8080/"
    },
    "executionInfo": {
     "elapsed": 47726,
     "status": "ok",
     "timestamp": 1612477932308,
     "user": {
      "displayName": "YUBO WANG",
      "photoUrl": "",
      "userId": "04037309235043616004"
     },
     "user_tz": 300
    },
    "id": "1zXdrKzUDP8h",
    "outputId": "b46a7d3f-68db-471d-efed-55243bac50e8"
   },
   "outputs": [
    {
     "name": "stderr",
     "output_type": "stream",
     "text": [
      "/usr/local/lib/python3.6/dist-packages/seaborn/_decorators.py:43: FutureWarning: Pass the following variable as a keyword arg: y. From version 0.12, the only valid positional argument will be `data`, and passing other arguments without an explicit keyword will result in an error or misinterpretation.\n",
      "  FutureWarning\n",
      "/usr/local/lib/python3.6/dist-packages/seaborn/distributions.py:1657: FutureWarning: The `bw` parameter is deprecated in favor of `bw_method` and `bw_adjust`. Using 0.15 for `bw_method`, but please see the docs for the new parameters and update your code.\n",
      "  warnings.warn(msg, FutureWarning)\n",
      "/usr/local/lib/python3.6/dist-packages/seaborn/_decorators.py:43: FutureWarning: Pass the following variable as a keyword arg: y. From version 0.12, the only valid positional argument will be `data`, and passing other arguments without an explicit keyword will result in an error or misinterpretation.\n",
      "  FutureWarning\n",
      "/usr/local/lib/python3.6/dist-packages/seaborn/distributions.py:1657: FutureWarning: The `bw` parameter is deprecated in favor of `bw_method` and `bw_adjust`. Using 0.15 for `bw_method`, but please see the docs for the new parameters and update your code.\n",
      "  warnings.warn(msg, FutureWarning)\n"
     ]
    }
   ],
   "source": [
    "fig = plt.figure(figsize=(3.15, 3.15))\n",
    "\n",
    "warm_sample = 0\n",
    "split_ = 1\n",
    "ax = sns.kdeplot(csgld_x[:,0][::split_][warm_sample:], csgld_x[:,1][::split_][warm_sample:],  cmap=\"Blues\", shade=True, thresh=0.05, bw=0.15)\n",
    "ax.set_xlim(lower, upper)\n",
    "ax.set_ylim(lower, upper)\n",
    "\n",
    "plt.savefig(\"anonymous/Contour-Stochastic-Gradient-Langevin-Dynamics/simulation_figures/CSGLD_before.png\")\n",
    "plt.close()\n",
    "\n",
    "fig = plt.figure(figsize=(3.15, 3.15))\n",
    "ax = sns.kdeplot(resample_x[:,0][::split_][warm_sample:], resample_x[:,1][::split_][warm_sample:], cmap=\"Blues\", shade=True, thresh=0.05, bw=0.15)\n",
    "ax.set_xlim(lower, upper)\n",
    "ax.set_ylim(lower, upper)\n",
    "plt.savefig(\"anonymous/Contour-Stochastic-Gradient-Langevin-Dynamics/simulation_figures/CSGLD_after.png\")\n",
    "plt.close()"
   ]
  },
  {
   "cell_type": "markdown",
   "metadata": {
    "id": "ikRGsyEFlMss"
   },
   "source": [
    "## Calculate the KL divergence"
   ]
  },
  {
   "cell_type": "code",
   "execution_count": 13,
   "metadata": {
    "executionInfo": {
     "elapsed": 41099,
     "status": "ok",
     "timestamp": 1612237661597,
     "user": {
      "displayName": "YUBO WANG",
      "photoUrl": "",
      "userId": "04037309235043616004"
     },
     "user_tz": 300
    },
    "id": "_YqHGrColGne"
   },
   "outputs": [],
   "source": [
    "def KLdivergence(x, y):\n",
    "    \"\"\"Compute the Kullback-Leibler divergence between two multivariate samples.\n",
    "    Parameters\n",
    "    ----------\n",
    "    x : 2D array (n,d)\n",
    "      Samples from distribution P, which typically represents the true\n",
    "      distribution.\n",
    "    y : 2D array (m,d)\n",
    "      Samples from distribution Q, which typically represents the approximate\n",
    "      distribution.\n",
    "    Returns\n",
    "    -------\n",
    "    out : float\n",
    "      The estimated Kullback-Leibler divergence D(P||Q).\n",
    "    References\n",
    "    ----------\n",
    "    Pérez-Cruz, F. Kullback-Leibler divergence estimationx of\n",
    "  continuous distributions IEEE International Symposium on Information\n",
    "  Theory, 2008.\n",
    "    \"\"\"\n",
    "    from scipy.spatial import cKDTree as KDTree\n",
    "\n",
    "    # Check the dimensions are consistent\n",
    "    x = np.atleast_2d(x)\n",
    "    y = np.atleast_2d(y)\n",
    "\n",
    "    n,d = x.shape\n",
    "    m,dy = y.shape\n",
    "\n",
    "    assert(d == dy)\n",
    "\n",
    "\n",
    "    # Build a KD tree representation of the samples and find the nearest neighbour\n",
    "    # of each point in x.\n",
    "    xtree = KDTree(x)\n",
    "    ytree = KDTree(y)\n",
    "\n",
    "    # Get the first two nearest neighbours for x, since the closest one is the\n",
    "    # sample itself.\n",
    "    r = xtree.query(x, k=2, eps=.01, p=2)[0][:,1]\n",
    "    s = ytree.query(x, k=1, eps=.01, p=2)[0]\n",
    "\n",
    "    # There is a mistake in the paper. In Eq. 14, the right side misses a negative sign\n",
    "    # on the first term of the right hand side.\n",
    "    return -np.log(r/s).sum() * d / n + np.log(m / (n - 1.))"
   ]
  },
  {
   "cell_type": "code",
   "execution_count": 14,
   "metadata": {
    "executionInfo": {
     "elapsed": 41093,
     "status": "ok",
     "timestamp": 1612237661598,
     "user": {
      "displayName": "YUBO WANG",
      "photoUrl": "",
      "userId": "04037309235043616004"
     },
     "user_tz": 300
    },
    "id": "3IJUFc0AlRAI"
   },
   "outputs": [],
   "source": [
    "PATH = \"anonymous/Contour-Stochastic-Gradient-Langevin-Dynamics/\"\n",
    "import pickle\n",
    "f = open(PATH + \"simulation_figures/true_samples.txt\", 'rb')\n",
    "true_samples = pickle.load(f)\n",
    "f.close()"
   ]
  },
  {
   "cell_type": "code",
   "execution_count": null,
   "metadata": {
    "colab": {
     "base_uri": "https://localhost:8080/",
     "height": 215
    },
    "executionInfo": {
     "elapsed": 291,
     "status": "error",
     "timestamp": 1612322871718,
     "user": {
      "displayName": "YUBO WANG",
      "photoUrl": "",
      "userId": "04037309235043616004"
     },
     "user_tz": 300
    },
    "id": "f7pCAWAalUQv",
    "outputId": "f73ee3a9-c826-4b28-cbf0-84221ccc17c1"
   },
   "outputs": [],
   "source": [
    "csgld_kl_path = []  \n",
    "for i in range(100, resample_x.shape[0]):\n",
    "    csgld_kl_path.append(KLdivergence(true_samples, resample_x[:i,:]))\n",
    "    "
   ]
  },
  {
   "cell_type": "code",
   "execution_count": null,
   "metadata": {},
   "outputs": [],
   "source": [
    "PATH = \"anonymous/Contour-Stochastic-Gradient-Langevin-Dynamics/simulation_figures/\"\n",
    "import pickle\n",
    "f = open(PATH + 'csgld_kl.txt', 'wb')\n",
    "pickle.dump(csgld_kl_path, f)\n",
    "f.close()"
   ]
  }
 ],
 "metadata": {
  "colab": {
   "authorship_tag": "ABX9TyMQQvfVZ8Q1yMd1QSaF9SbG",
   "name": "CSGLD.ipynb",
   "provenance": []
  },
  "kernelspec": {
   "display_name": "Python 3",
   "language": "python",
   "name": "python3"
  },
  "language_info": {
   "codemirror_mode": {
    "name": "ipython",
    "version": 3
   },
   "file_extension": ".py",
   "mimetype": "text/x-python",
   "name": "python",
   "nbconvert_exporter": "python",
   "pygments_lexer": "ipython3",
   "version": "3.8.5"
  }
 },
 "nbformat": 4,
 "nbformat_minor": 1
}
