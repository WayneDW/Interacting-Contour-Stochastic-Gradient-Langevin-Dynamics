{
 "cells": [
  {
   "cell_type": "code",
   "execution_count": null,
   "metadata": {
    "colab": {
     "base_uri": "https://localhost:8080/"
    },
    "executionInfo": {
     "elapsed": 26965,
     "status": "ok",
     "timestamp": 1611724623670,
     "user": {
      "displayName": "YUBO WANG",
      "photoUrl": "",
      "userId": "04037309235043616004"
     },
     "user_tz": 300
    },
    "id": "y_CRtlvwpjcC",
    "outputId": "ddf44dee-0193-4374-c869-c2686807037f"
   },
   "outputs": [],
   "source": [
    "import autograd.numpy as np\n",
    "from autograd import grad\n",
    "from autograd.numpy import log, sqrt, sin, cos, exp, pi, prod\n",
    "from autograd.numpy.random import normal, uniform\n",
    "\n",
    "import matplotlib as mpl\n",
    "from mpl_toolkits.mplot3d import Axes3D\n",
    "import matplotlib.pyplot as plt\n",
    "import seaborn as sns\n",
    "from matplotlib import cm\n",
    "import imageio\n",
    "import os\n",
    "from google.colab import drive\n",
    "drive.mount('/content/drive')\n",
    "\n",
    "path = \"/content/drive/My Drive\"\n",
    "\n",
    "os.chdir(path)\n",
    "os.listdir(path)"
   ]
  },
  {
   "cell_type": "code",
   "execution_count": 2,
   "metadata": {
    "executionInfo": {
     "elapsed": 311,
     "status": "ok",
     "timestamp": 1611724625346,
     "user": {
      "displayName": "YUBO WANG",
      "photoUrl": "",
      "userId": "04037309235043616004"
     },
     "user_tz": 300
    },
    "id": "AxdrQGlHJ2QC"
   },
   "outputs": [],
   "source": [
    "np.set_printoptions(precision=3)\n",
    "np.set_printoptions(suppress=True)\n",
    "np.random.seed(2021)"
   ]
  },
  {
   "cell_type": "code",
   "execution_count": 3,
   "metadata": {
    "executionInfo": {
     "elapsed": 287,
     "status": "ok",
     "timestamp": 1611724630327,
     "user": {
      "displayName": "YUBO WANG",
      "photoUrl": "",
      "userId": "04037309235043616004"
     },
     "user_tz": 300
    },
    "id": "CmqfVEJHSwvX"
   },
   "outputs": [],
   "source": [
    "def mixture(x):\n",
    "    energy = ((x[0]**2 + x[1]**2)/10 - (cos(2.0*pi*x[0]) + cos(2.0*pi*x[1]))) / 0.5 # 2\n",
    "    regularizer = ((x[0]**2 + x[1]**2) > 20) * ((x[0]**2 + x[1]**2) - 20)\n",
    "    return energy + regularizer\n",
    "\n",
    "def mixture_expand(x, y): return mixture([x, y])\n",
    "def function_plot(x, y): return np.exp(-mixture([x, y]))\n",
    "\n",
    "lower, upper = -2.5, 2.5\n",
    "axis_x = np.linspace(lower, upper, 500)\n",
    "axis_y = np.linspace(lower, upper, 500)\n",
    "axis_X, axis_Y = np.meshgrid(axis_x, axis_y)\n",
    "\n",
    "energy_grid = mixture_expand(axis_X, axis_Y)\n",
    "prob_grid = function_plot(axis_X, axis_Y)"
   ]
  },
  {
   "cell_type": "markdown",
   "metadata": {
    "id": "cWJPHnxfS899"
   },
   "source": [
    "# Build SGLD Sampler (Single Chain)"
   ]
  },
  {
   "cell_type": "code",
   "execution_count": null,
   "metadata": {
    "id": "bY8TaMxWS7Wf"
   },
   "outputs": [],
   "source": [
    "class Sampler:\n",
    "    def __init__(self, f=None, dim=None, xinit=None, lr=0.1, T=1.0, decay_lr=100.):\n",
    "        self.f = f\n",
    "        self.dim = dim\n",
    "        self.lr = lr\n",
    "        self.T = T\n",
    "        self.decay_lr = decay_lr\n",
    "      \n",
    "         \n",
    "        # initialization for SGLD\n",
    "        self.x = np.array(xinit)\n",
    "        \n",
    "\n",
    "    def stochastic_grad(self, beta):  return grad(self.f)(beta) + 0.25*normal(size=self.dim)\n",
    "\n",
    "    def stochastic_f(self, beta): return self.f(beta.tolist()) + 0.25*normal(size=1)\n",
    "\n",
    "    def sgld_step(self, iters):  \n",
    "        self.x = self.x - self.lr * self.stochastic_grad(self.x) + sqrt(2. * self.lr * self.T) * normal(size=self.dim) "
   ]
  },
  {
   "cell_type": "markdown",
   "metadata": {
    "id": "cfYrga2GDafc"
   },
   "source": [
    "## Call our sampler"
   ]
  },
  {
   "cell_type": "code",
   "execution_count": null,
   "metadata": {
    "id": "53tl_ZNZDZjv"
   },
   "outputs": [],
   "source": [
    "sampler = Sampler(f=mixture, dim=2, xinit=[0.,0.], lr=3e-3, T=1, decay_lr=3e-3)"
   ]
  },
  {
   "cell_type": "code",
   "execution_count": null,
   "metadata": {
    "id": "ACAQESjbDov4"
   },
   "outputs": [],
   "source": [
    "warm_up = 1000\n",
    "sgld_x = np.array([sampler.x])"
   ]
  },
  {
   "cell_type": "code",
   "execution_count": null,
   "metadata": {
    "colab": {
     "base_uri": "https://localhost:8080/",
     "height": 1000,
     "output_embedded_package_id": "1rDgtTJj5Uhbfgb-SIPyAvTiErQXGH-cX"
    },
    "executionInfo": {
     "elapsed": 401765,
     "status": "ok",
     "timestamp": 1610229876061,
     "user": {
      "displayName": "YUBO WANG",
      "photoUrl": "",
      "userId": "04037309235043616004"
     },
     "user_tz": 300
    },
    "id": "kZOOL0wuDu27",
    "outputId": "8ff2c9b7-ad7c-4e7a-e24c-7507f1d07b5c"
   },
   "outputs": [
    {
     "data": {
      "text/plain": [
       "Output hidden; open in https://colab.research.google.com to view."
      ]
     },
     "metadata": {},
     "output_type": "display_data"
    }
   ],
   "source": [
    "my_images3 = []\n",
    "PATH = 'anonymous/Contour-Stochastic-Gradient-Langevin-Dynamics/SGLD_result/'\n",
    "if not os.path.isdir(PATH):\n",
    "    try:\n",
    "        os.makedirs(PATH)\n",
    "    except OSError as exc:  # Python >2.5\n",
    "        if exc.errno == errno.EEXIST and os.path.isdir(PATH):\n",
    "            pass\n",
    "        else:\n",
    "            raise\n",
    "\n",
    "for iters in range(int(4e5)):\n",
    "    sampler.sgld_step(iters)\n",
    "    if iters > warm_up:\n",
    "        if iters % 20 == 0:\n",
    "            sgld_x = np.vstack((sgld_x, sampler.x))\n",
    "        if iters % 2000 == 0:\n",
    "              fig3 = plt.figure(figsize=(4, 4))\n",
    "              plt.contour(axis_X, axis_Y, prob_grid, 10)\n",
    "              plt.yticks([-4, -2, 0, 2, 4]) \n",
    "              plt.scatter(sgld_x[:,0], sgld_x[:,1], marker='.', s=3, color='k', label=\"Iteration=\"+str(iters)) \n",
    "              plt.legend(loc=\"upper left\", prop={'size': 10})\n",
    "              plt.xlim([lower, upper])\n",
    "              plt.ylim([lower, upper])\n",
    "              # plt.tight_layout()\n",
    "              plt.show()\n",
    "              fig3.canvas.draw()\n",
    "              image3 = np.frombuffer(fig3.canvas.tostring_rgb(), dtype='uint8').reshape(fig3.canvas.get_width_height()[::-1] + (3,))\n",
    "              my_images3.append(image3)\n",
    "              plt.close('all')\n",
    "          \n",
    "\n",
    "imageio.mimsave(PATH+'SGLD_contour_'+str(sampler.lr)+\"_\"+str(sampler.T)+'.gif', my_images3, fps=50)      \n",
    "# imageio.mimsave(PATH+'CSGLD_PDF'+str(zeta)+\"_\"+str(psampler.lr)+\"_\"+str(psampler.T)+'.gif', my_images4, fps=50)\n",
    "\n",
    "# save the sampels\n",
    "import pickle\n",
    "f = open(PATH + 'SGLD_samples.txt', 'wb')\n",
    "pickle.dump(sgld_x, f)\n",
    "f.close()\n",
    "            "
   ]
  },
  {
   "cell_type": "code",
   "execution_count": null,
   "metadata": {
    "colab": {
     "base_uri": "https://localhost:8080/",
     "height": 323
    },
    "executionInfo": {
     "elapsed": 426595,
     "status": "ok",
     "timestamp": 1610229901229,
     "user": {
      "displayName": "YUBO WANG",
      "photoUrl": "",
      "userId": "04037309235043616004"
     },
     "user_tz": 300
    },
    "id": "VhOtNmKHEKaM",
    "outputId": "d6c83831-3f31-4533-9f01-90330e961df2"
   },
   "outputs": [
    {
     "name": "stderr",
     "output_type": "stream",
     "text": [
      "/usr/local/lib/python3.6/dist-packages/seaborn/_decorators.py:43: FutureWarning: Pass the following variable as a keyword arg: y. From version 0.12, the only valid positional argument will be `data`, and passing other arguments without an explicit keyword will result in an error or misinterpretation.\n",
      "  FutureWarning\n",
      "/usr/local/lib/python3.6/dist-packages/seaborn/distributions.py:1659: FutureWarning: The `bw` parameter is deprecated in favor of `bw_method` and `bw_adjust`. Using 0.15 for `bw_method`, but please see the docs for the new parameters and update your code.\n",
      "  warnings.warn(msg, FutureWarning)\n"
     ]
    },
    {
     "data": {
      "image/png": "[encoded data removed]",
      "text/plain": [
       "<Figure size 540x226.8 with 2 Axes>"
      ]
     },
     "metadata": {
      "needs_background": "light",
      "tags": []
     },
     "output_type": "display_data"
    }
   ],
   "source": [
    "fig = plt.figure(figsize=(7.5, 3.15))\n",
    "plt.subplot(1, 2, 1).set_title('(a) Ground truth')\n",
    "sns.heatmap(prob_grid, cmap=\"Blues\", cbar=False, xticklabels=False, yticklabels=False).invert_yaxis()\n",
    "\n",
    "warm_sample = 50\n",
    "split_ = 1\n",
    "plt.subplot(1, 2, 2).set_title('(b) SGLD')\n",
    "ax = sns.kdeplot(sgld_x[:,0][::split_][warm_sample:], sgld_x[:,1][::split_][warm_sample:],  cmap=\"Blues\", shade=True, thresh=0.05, bw=0.15)\n",
    "ax.set_xlim(lower, upper)\n",
    "ax.set_ylim(lower, upper)\n",
    "plt.savefig(PATH+\"SGLD_\"+str(sampler.lr)+\"_\"+str(sampler.T)+\".png\")"
   ]
  },
  {
   "cell_type": "markdown",
   "metadata": {
    "id": "bS1roQPKRhIr"
   },
   "source": [
    "# Build Parallel SGLD Sampler"
   ]
  },
  {
   "cell_type": "code",
   "execution_count": 5,
   "metadata": {
    "executionInfo": {
     "elapsed": 280,
     "status": "ok",
     "timestamp": 1611724650483,
     "user": {
      "displayName": "YUBO WANG",
      "photoUrl": "",
      "userId": "04037309235043616004"
     },
     "user_tz": 300
    },
    "id": "icsqdQ9nhiWV"
   },
   "outputs": [],
   "source": [
    "class PSampler:\n",
    "    def __init__(self, f=None, dim=None, boundary=None, xinit=None, \\\n",
    "                 partition=None, lr=0.1, zeta=1.0, T=1.0, decay_lr=100., parts=100):\n",
    "        self.N = len(xinit) # number of parallel markov chain\n",
    "        self.f = f\n",
    "        self.dim = dim\n",
    "        self.lr = lr\n",
    "        self.T = T\n",
    "     \n",
    "        # initialization for SGLD\n",
    "        self.x = np.array(xinit)\n",
    "       \n",
    "    def stochastic_grad(self, beta):  return grad(self.f)(beta) + 0.25*normal(size=self.dim)\n",
    "\n",
    "    def stochastic_f(self, beta): return self.f(beta.tolist()) + 0.25*normal(size=1)\n",
    "\n",
    "     \n",
    "    def sgld_step(self, iters):        \n",
    "        self.x = [self.x[i] - self.lr * self.stochastic_grad(self.x[i]) \n",
    "        + sqrt(2. * self.lr * self.T) * normal(size=self.dim) for i in range(self.N)]"
   ]
  },
  {
   "cell_type": "markdown",
   "metadata": {
    "id": "-jwJi7vNSS1j"
   },
   "source": [
    "Call our sampler"
   ]
  },
  {
   "cell_type": "code",
   "execution_count": 6,
   "metadata": {
    "executionInfo": {
     "elapsed": 349,
     "status": "ok",
     "timestamp": 1611724654940,
     "user": {
      "displayName": "YUBO WANG",
      "photoUrl": "",
      "userId": "04037309235043616004"
     },
     "user_tz": 300
    },
    "id": "TwmbvrcQST7l"
   },
   "outputs": [],
   "source": [
    "psampler = PSampler(f=mixture, dim=2, xinit=[[0.,-1.],[0.,0.],[-1.,0.],[0.,1.],[1.,0.]], lr=3e-3, T=1, decay_lr=3e-3)"
   ]
  },
  {
   "cell_type": "code",
   "execution_count": 7,
   "metadata": {
    "executionInfo": {
     "elapsed": 656,
     "status": "ok",
     "timestamp": 1611724661862,
     "user": {
      "displayName": "YUBO WANG",
      "photoUrl": "",
      "userId": "04037309235043616004"
     },
     "user_tz": 300
    },
    "id": "ctbwu5C-SbTw"
   },
   "outputs": [],
   "source": [
    "warm_up = 1000\n",
    "sgld_x = np.array(psampler.x)"
   ]
  },
  {
   "cell_type": "code",
   "execution_count": 8,
   "metadata": {
    "colab": {
     "base_uri": "https://localhost:8080/",
     "height": 1000,
     "output_embedded_package_id": "1AYfJJ0M_BTc7kWSl__MWiukzTiKUvRn8"
    },
    "executionInfo": {
     "elapsed": 409676,
     "status": "ok",
     "timestamp": 1611725163144,
     "user": {
      "displayName": "YUBO WANG",
      "photoUrl": "",
      "userId": "04037309235043616004"
     },
     "user_tz": 300
    },
    "id": "-OXcsUgPSkYu",
    "outputId": "d1bdb575-ae5d-4308-e370-610d7ee789f4"
   },
   "outputs": [
    {
     "data": {
      "text/plain": [
       "Output hidden; open in https://colab.research.google.com to view."
      ]
     },
     "metadata": {},
     "output_type": "display_data"
    }
   ],
   "source": [
    "my_images3 = []\n",
    "PATH = 'anonymous/Contour-Stochastic-Gradient-Langevin-Dynamics/SGLD_result/'\n",
    "if not os.path.isdir(PATH):\n",
    "    try:\n",
    "        os.makedirs(PATH)\n",
    "    except OSError as exc:  # Python >2.5\n",
    "        if exc.errno == errno.EEXIST and os.path.isdir(PATH):\n",
    "            pass\n",
    "        else:\n",
    "            raise\n",
    "\n",
    "np.random.seed(2021)\n",
    "for iters in range(int(8e4)):\n",
    "    psampler.sgld_step(iters)\n",
    "    if iters > warm_up:\n",
    "        if iters % 20 == 0:\n",
    "            sgld_x = np.vstack((sgld_x, psampler.x))\n",
    "        if iters % 400 == 0:\n",
    "              fig3 = plt.figure(figsize=(4, 4))\n",
    "              plt.contour(axis_X, axis_Y, prob_grid, 10)\n",
    "              plt.yticks([-4, -2, 0, 2, 4]) \n",
    "              plt.scatter(sgld_x[:,0], sgld_x[:,1], marker='.', s=3, color='k', label=\"Iteration=\"+str(iters)) \n",
    "              plt.legend(loc=\"upper left\", prop={'size': 10})\n",
    "              plt.xlim([lower, upper])\n",
    "              plt.ylim([lower, upper])\n",
    "              # plt.tight_layout()\n",
    "              plt.show()\n",
    "              fig3.canvas.draw()\n",
    "              image3 = np.frombuffer(fig3.canvas.tostring_rgb(), dtype='uint8').reshape(fig3.canvas.get_width_height()[::-1] + (3,))\n",
    "              my_images3.append(image3)\n",
    "              plt.close('all')\n",
    "          \n",
    "\n",
    "imageio.mimsave(PATH+'Population_SGLD_contour_'+str(psampler.lr)+\"_\"+str(psampler.T)+'.gif', my_images3, fps=50)      \n",
    "# imageio.mimsave(PATH+'CSGLD_PDF'+str(zeta)+\"_\"+str(psampler.lr)+\"_\"+str(psampler.T)+'.gif', my_images4, fps=50)\n",
    "\n",
    "# save the sampels\n",
    "import pickle\n",
    "f = open(PATH + 'population_SGLD_samples.txt', 'wb')\n",
    "pickle.dump(sgld_x, f)\n",
    "f.close()            "
   ]
  },
  {
   "cell_type": "code",
   "execution_count": 9,
   "metadata": {
    "colab": {
     "base_uri": "https://localhost:8080/",
     "height": 307
    },
    "executionInfo": {
     "elapsed": 25472,
     "status": "ok",
     "timestamp": 1611725188729,
     "user": {
      "displayName": "YUBO WANG",
      "photoUrl": "",
      "userId": "04037309235043616004"
     },
     "user_tz": 300
    },
    "id": "MzRxikcoSEBy",
    "outputId": "aa5a5ed3-b3aa-47a6-d8fe-a1861119d9ab"
   },
   "outputs": [
    {
     "name": "stderr",
     "output_type": "stream",
     "text": [
      "/usr/local/lib/python3.6/dist-packages/seaborn/_decorators.py:43: FutureWarning: Pass the following variable as a keyword arg: y. From version 0.12, the only valid positional argument will be `data`, and passing other arguments without an explicit keyword will result in an error or misinterpretation.\n",
      "  FutureWarning\n",
      "/usr/local/lib/python3.6/dist-packages/seaborn/distributions.py:1657: FutureWarning: The `bw` parameter is deprecated in favor of `bw_method` and `bw_adjust`. Using 0.15 for `bw_method`, but please see the docs for the new parameters and update your code.\n",
      "  warnings.warn(msg, FutureWarning)\n"
     ]
    },
    {
     "data": {
      "image/png": "[encoded data removed]",
      "text/plain": [
       "<Figure size 226.8x226.8 with 1 Axes>"
      ]
     },
     "metadata": {
      "needs_background": "light",
      "tags": []
     },
     "output_type": "display_data"
    }
   ],
   "source": [
    "fig = plt.figure(figsize=(3.15, 3.15))\n",
    "\n",
    "warm_sample = 50\n",
    "split_ = 1\n",
    "plt.subplot(1, 1, 1)\n",
    "ax = sns.kdeplot(sgld_x[:,0][::split_][warm_sample:], sgld_x[:,1][::split_][warm_sample:],  cmap=\"Blues\", shade=True, thresh=0.05, bw=0.15)\n",
    "ax.set_xlim(lower, upper)\n",
    "ax.set_ylim(lower, upper)\n",
    "plt.savefig(PATH+\"population_SGLD.png\")"
   ]
  },
  {
   "cell_type": "code",
   "execution_count": null,
   "metadata": {
    "colab": {
     "base_uri": "https://localhost:8080/",
     "height": 323
    },
    "executionInfo": {
     "elapsed": 25285,
     "status": "ok",
     "timestamp": 1610230325344,
     "user": {
      "displayName": "YUBO WANG",
      "photoUrl": "",
      "userId": "04037309235043616004"
     },
     "user_tz": 300
    },
    "id": "a5VzbLHNSoV9",
    "outputId": "57e419b2-85b7-43dd-b94a-c51b62dfcfe0"
   },
   "outputs": [
    {
     "name": "stderr",
     "output_type": "stream",
     "text": [
      "/usr/local/lib/python3.6/dist-packages/seaborn/_decorators.py:43: FutureWarning: Pass the following variable as a keyword arg: y. From version 0.12, the only valid positional argument will be `data`, and passing other arguments without an explicit keyword will result in an error or misinterpretation.\n",
      "  FutureWarning\n",
      "/usr/local/lib/python3.6/dist-packages/seaborn/distributions.py:1659: FutureWarning: The `bw` parameter is deprecated in favor of `bw_method` and `bw_adjust`. Using 0.15 for `bw_method`, but please see the docs for the new parameters and update your code.\n",
      "  warnings.warn(msg, FutureWarning)\n"
     ]
    },
    {
     "data": {
      "image/png": "[encoded data removed]",
      "text/plain": [
       "<Figure size 540x226.8 with 2 Axes>"
      ]
     },
     "metadata": {
      "needs_background": "light",
      "tags": []
     },
     "output_type": "display_data"
    }
   ],
   "source": [
    "fig = plt.figure(figsize=(7.5, 3.15))\n",
    "plt.subplot(1, 2, 1).set_title('(a) Ground truth')\n",
    "sns.heatmap(prob_grid, cmap=\"Blues\", cbar=False, xticklabels=False, yticklabels=False).invert_yaxis()\n",
    "\n",
    "warm_sample = 50\n",
    "split_ = 1\n",
    "plt.subplot(1, 2, 2).set_title('(b) population SGLD')\n",
    "ax = sns.kdeplot(sgld_x[:,0][::split_][warm_sample:], sgld_x[:,1][::split_][warm_sample:],  cmap=\"Blues\", shade=True, thresh=0.05, bw=0.15)\n",
    "ax.set_xlim(lower, upper)\n",
    "ax.set_ylim(lower, upper)\n",
    "plt.savefig(PATH+\"population_SGLD_\"+str(psampler.lr)+\"_\"+str(psampler.T)+\".png\")"
   ]
  },
  {
   "cell_type": "code",
   "execution_count": null,
   "metadata": {
    "id": "4lR89EaVxNLP"
   },
   "outputs": [],
   "source": []
  }
 ],
 "metadata": {
  "colab": {
   "authorship_tag": "ABX9TyNfxFw9MrA1JXCrBE/XA+Pw",
   "name": "SGLD.ipynb",
   "provenance": []
  },
  "kernelspec": {
   "display_name": "Python 3",
   "language": "python",
   "name": "python3"
  },
  "language_info": {
   "codemirror_mode": {
    "name": "ipython",
    "version": 3
   },
   "file_extension": ".py",
   "mimetype": "text/x-python",
   "name": "python",
   "nbconvert_exporter": "python",
   "pygments_lexer": "ipython3",
   "version": "3.8.5"
  }
 },
 "nbformat": 4,
 "nbformat_minor": 1
}
