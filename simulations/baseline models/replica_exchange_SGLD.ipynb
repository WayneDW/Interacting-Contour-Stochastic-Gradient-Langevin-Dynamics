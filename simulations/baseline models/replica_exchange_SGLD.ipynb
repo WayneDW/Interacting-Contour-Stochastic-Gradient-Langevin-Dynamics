{
 "cells": [
  {
   "cell_type": "code",
   "execution_count": null,
   "metadata": {
    "colab": {
     "base_uri": "https://localhost:8080/"
    },
    "executionInfo": {
     "elapsed": 401,
     "status": "ok",
     "timestamp": 1612404038437,
     "user": {
      "displayName": "YUBO WANG",
      "photoUrl": "",
      "userId": "04037309235043616004"
     },
     "user_tz": 300
    },
    "id": "2kOf_IhqnqQM",
    "outputId": "a05c3bf2-7f1d-4880-dbce-5d38e85b92dc"
   },
   "outputs": [],
   "source": [
    "import autograd.numpy as np\n",
    "from autograd import grad\n",
    "from autograd.numpy import log, sqrt, sin, cos, exp, pi, prod\n",
    "from autograd.numpy.random import normal, uniform\n",
    "\n",
    "import matplotlib as mpl\n",
    "from mpl_toolkits.mplot3d import Axes3D\n",
    "from matplotlib.pyplot import MultipleLocator\n",
    "import matplotlib.pyplot as plt\n",
    "import seaborn as sns\n",
    "from matplotlib import cm\n",
    "import imageio\n",
    "import os\n",
    "from google.colab import drive\n",
    "drive.mount('/content/drive')\n",
    "\n",
    "path = \"/content/drive/My Drive\"\n",
    "\n",
    "os.chdir(path)\n",
    "os.listdir(path)"
   ]
  },
  {
   "cell_type": "code",
   "execution_count": 15,
   "metadata": {
    "executionInfo": {
     "elapsed": 345,
     "status": "ok",
     "timestamp": 1612404040137,
     "user": {
      "displayName": "YUBO WANG",
      "photoUrl": "",
      "userId": "04037309235043616004"
     },
     "user_tz": 300
    },
    "id": "OtnU1Fb6rGrI"
   },
   "outputs": [],
   "source": [
    "import numpy as np\n",
    "np.random.seed(0)"
   ]
  },
  {
   "cell_type": "code",
   "execution_count": 16,
   "metadata": {
    "executionInfo": {
     "elapsed": 538,
     "status": "ok",
     "timestamp": 1612404042617,
     "user": {
      "displayName": "YUBO WANG",
      "photoUrl": "",
      "userId": "04037309235043616004"
     },
     "user_tz": 300
    },
    "id": "46yL7HnoA4oy"
   },
   "outputs": [],
   "source": [
    "def mixture(x):\n",
    "    energy = ((x[0]**2 + x[1]**2)/10 - (cos(2.0*pi*x[0]) + cos(2.0*pi*x[1]))) / 0.5 # 2\n",
    "    regularizer = ((x[0]**2 + x[1]**2) > 20) * ((x[0]**2 + x[1]**2) - 20)\n",
    "    return energy + regularizer\n",
    "\n",
    "def mixture_expand(x, y): return mixture([x, y])\n",
    "def function_plot(x, y): return np.exp(-mixture([x, y]))\n",
    "\n",
    "lower, upper = -2.5, 2.5\n",
    "axis_x = np.linspace(lower, upper, 500)\n",
    "axis_y = np.linspace(lower, upper, 500)\n",
    "axis_X, axis_Y = np.meshgrid(axis_x, axis_y)\n",
    "\n",
    "energy_grid = mixture_expand(axis_X, axis_Y)\n",
    "prob_grid = function_plot(axis_X, axis_Y)"
   ]
  },
  {
   "cell_type": "code",
   "execution_count": 17,
   "metadata": {
    "executionInfo": {
     "elapsed": 539,
     "status": "ok",
     "timestamp": 1612404042793,
     "user": {
      "displayName": "YUBO WANG",
      "photoUrl": "",
      "userId": "04037309235043616004"
     },
     "user_tz": 300
    },
    "id": "IQEPzD4DST1G"
   },
   "outputs": [],
   "source": [
    "class Sampler:\n",
    "    def __init__(self, f=None, dim=None, xinit=None,lr=[1e-3]*5, T=None, decay_lr=3e-3, init_var=25):\n",
    "        self.N = len(xinit)\n",
    "        self.f = f\n",
    "        self.dim = dim\n",
    "        self.lr = lr\n",
    "        self.T = T\n",
    "        self.unbiased_var = np.ones(self.N-1) * init_var\n",
    "        self.decay_lr = decay_lr\n",
    "        self.hat_var = np.ones(self.N-1) * init_var\n",
    "        self.swap = [0] * (self.N - 1)\n",
    "\n",
    "        # initialization\n",
    "        self.x = np.array(xinit)\n",
    "\n",
    "    def stochastic_grad(self, beta): return grad(self.f)(beta) + 0.25*normal(size=self.dim)\n",
    "\n",
    "    def stochastic_f(self, beta): return self.f(beta.tolist()) + 0.25*normal(size=1)\n",
    "\n",
    "    def resgld_step(self, iters):\n",
    "        self.x = [self.x[i] - self.lr[i] * self.stochastic_grad(self.x[i]) \n",
    "        + sqrt(2. * self.lr[i] * self.T[i]) * normal(size=self.dim) for i in range(self.N)]\n",
    "        self.swap = [0] * (self.N - 1)\n",
    "\n",
    "        for j in range(self.N-1):\n",
    "            if (iters+1) % 100 == 0:\n",
    "                loss_stat = []\n",
    "                for i in range(10):\n",
    "                    loss_stat.append(self.stochastic_f(self.x[j]))\n",
    "\n",
    "                step_size = min(self.decay_lr, 1./(iters**0.6+100))\n",
    "                self.unbiased_var[j] = np.var(loss_stat)\n",
    "                self.hat_var = (1-step_size) * self.hat_var + step_size * self.unbiased_var[j]\n",
    "                \n",
    "            integrand_corrected = min(1, exp((1/self.T[j+1] - 1/self.T[j]) * (self.stochastic_f(self.x[j+1])-self.stochastic_f(self.x[j]) - (1/self.T[j+1] - 1/self.T[j]) * self.hat_var[j]))[0])\n",
    "            # print(integrand_corrected)\n",
    "            \n",
    "            if np.random.uniform(0,1,1) < integrand_corrected:\n",
    "                self.x[j], self.x[j+1] = self.x[j+1], self.x[j]\n",
    "                self.swap[j] = 1\n",
    "            "
   ]
  },
  {
   "cell_type": "markdown",
   "metadata": {
    "id": "JfnViD4boB02"
   },
   "source": [
    "## Call our sampler"
   ]
  },
  {
   "cell_type": "code",
   "execution_count": 18,
   "metadata": {
    "executionInfo": {
     "elapsed": 369,
     "status": "ok",
     "timestamp": 1612404045989,
     "user": {
      "displayName": "YUBO WANG",
      "photoUrl": "",
      "userId": "04037309235043616004"
     },
     "user_tz": 300
    },
    "id": "uF9IPvWJn_58"
   },
   "outputs": [],
   "source": [
    "sampler = Sampler(f=mixture, dim=2, xinit=[[0.,-1.],[0.,0.],[-1.,0.],[0.,1.],[1.,0.]], lr=[0.001,0.002, 0.003, 0.004, 0.005], T=[1,2,3,4,5], decay_lr = 3e-3)"
   ]
  },
  {
   "cell_type": "code",
   "execution_count": 8,
   "metadata": {
    "colab": {
     "base_uri": "https://localhost:8080/",
     "height": 1000,
     "output_embedded_package_id": "1CbfgZs_XfWutqSZ-9XPpWYAbgjNQatJ3"
    },
    "executionInfo": {
     "elapsed": 404508,
     "status": "ok",
     "timestamp": 1612292605037,
     "user": {
      "displayName": "YUBO WANG",
      "photoUrl": "",
      "userId": "04037309235043616004"
     },
     "user_tz": 300
    },
    "id": "_d_s7c2URwPY",
    "outputId": "56871482-29bf-4af1-c4db-ccb561e8cb9b"
   },
   "outputs": [
    {
     "data": {
      "text/plain": [
       "Output hidden; open in https://colab.research.google.com to view."
      ]
     },
     "metadata": {},
     "output_type": "display_data"
    }
   ],
   "source": [
    "my_images3 = []\n",
    "warm_up = 1000\n",
    "nepoch = 8e4\n",
    "resgld_x = np.array(sampler.x)\n",
    "swap_rec = []\n",
    "\n",
    "PATH = 'anonymous/Contour-Stochastic-Gradient-Langevin-Dynamics/reSGLD_result/'\n",
    "if not os.path.isdir(PATH):\n",
    "    try:\n",
    "        os.makedirs(PATH)\n",
    "    except OSError as exc:  # Python >2.5\n",
    "        if exc.errno == errno.EEXIST and os.path.isdir(PATH):\n",
    "            pass\n",
    "        else:\n",
    "            raise\n",
    "\n",
    "for iters in range(int(nepoch)):\n",
    "    sampler.resgld_step(iters)\n",
    "    if iters > warm_up:\n",
    "        swap_rec.append(sampler.swap)\n",
    "        if iters % 20 == 0:\n",
    "            resgld_x = np.vstack((resgld_x, sampler.x[0]))\n",
    "        if iters % 1000 == 0:\n",
    "              print(iters)\n",
    "              fig3 = plt.figure(figsize=(4, 4))\n",
    "              plt.contour(axis_X, axis_Y, prob_grid, 10)\n",
    "              plt.yticks([-4, -2, 0, 2, 4]) \n",
    "              plt.scatter(resgld_x[:,0], resgld_x[:,1], marker='.', s=3, color='k', label=\"Iteration=\"+str(iters)) \n",
    "              plt.legend(loc=\"upper left\", prop={'size': 10})\n",
    "              plt.xlim([lower, upper])\n",
    "              plt.ylim([lower, upper])\n",
    "              # plt.tight_layout()\n",
    "              plt.show()\n",
    "              fig3.canvas.draw()\n",
    "              image3 = np.frombuffer(fig3.canvas.tostring_rgb(), dtype='uint8').reshape(fig3.canvas.get_width_height()[::-1] + (3,))\n",
    "              my_images3.append(image3)\n",
    "              plt.close('all')\n",
    "          \n",
    "\n",
    "imageio.mimsave(PATH+'Population_reSGLD_contour_'+str(sampler.lr)+\"_\"+str(sampler.T)+'.gif', my_images3, fps=50) \n",
    "\n",
    "import pickle\n",
    "f = open(PATH + \"swap_rec.txt\", 'wb')\n",
    "pickle.dump(swap_rec, f)\n",
    "f.close() \n",
    "f = open(PATH + \"samples.txt\", 'wb')\n",
    "pickle.dump(resgld_x, f)\n",
    "f.close()"
   ]
  },
  {
   "cell_type": "code",
   "execution_count": null,
   "metadata": {
    "colab": {
     "base_uri": "https://localhost:8080/",
     "height": 232
    },
    "executionInfo": {
     "elapsed": 757,
     "status": "error",
     "timestamp": 1612404052938,
     "user": {
      "displayName": "YUBO WANG",
      "photoUrl": "",
      "userId": "04037309235043616004"
     },
     "user_tz": 300
    },
    "id": "mDOuGsq4oTWB",
    "outputId": "82cbc5f5-33c3-4517-ce01-006cd6704c75"
   },
   "outputs": [],
   "source": [
    "fig = plt.figure(figsize=(7, 3.15))\n",
    "plt.subplot(1, 2, 1).set_title('(a) Ground truth')\n",
    "sns.heatmap(prob_grid, cmap=\"Blues\", cbar=False, xticklabels=False, yticklabels=False).invert_yaxis()\n",
    "\n",
    "warm_sample = 50\n",
    "split_ = 1\n",
    "plt.subplot(1, 2, 2).set_title('(b) population reSGLD')\n",
    "ax = sns.kdeplot(resgld_x[:,0][::split_][warm_sample:], resgld_x[:,1][::split_][warm_sample:],  cmap=\"Blues\", shade=True, thresh=0.05, bw=0.15)\n",
    "ax.set_xlim(lower, upper)\n",
    "ax.set_ylim(lower, upper)\n",
    "plt.savefig(PATH+\"population_reSGLD_\"+str(sampler.lr)+\"_\"+str(sampler.T)+\".png\")\n",
    "plt.close()"
   ]
  },
  {
   "cell_type": "code",
   "execution_count": null,
   "metadata": {
    "colab": {
     "base_uri": "https://localhost:8080/"
    },
    "executionInfo": {
     "elapsed": 410634,
     "status": "ok",
     "timestamp": 1612292616584,
     "user": {
      "displayName": "YUBO WANG",
      "photoUrl": "",
      "userId": "04037309235043616004"
     },
     "user_tz": 300
    },
    "id": "uAXKxTwKbxUq",
    "outputId": "1d256601-2c4e-451d-8fca-6fccd1298678"
   },
   "outputs": [],
   "source": [
    "fig = plt.figure(figsize=(3.15, 3.15))\n",
    "PATH = 'anonymous/Contour-Stochastic-Gradient-Langevin-Dynamics/'\n",
    "warm_sample = 0\n",
    "split_ = 1\n",
    "plt.subplot(1, 1, 1)\n",
    "ax = sns.kdeplot(resgld_x[:,0][::split_][warm_sample:], resgld_x[:,1][::split_][warm_sample:],  cmap=\"Blues\", shade=True, thresh=0.05, bw=0.15)\n",
    "ax.set_xlim(lower, upper)\n",
    "ax.set_ylim(lower, upper)\n",
    "plt.savefig(PATH+\"simulation_figures/population_reSGLD.png\")\n",
    "plt.close()"
   ]
  },
  {
   "cell_type": "code",
   "execution_count": 20,
   "metadata": {
    "executionInfo": {
     "elapsed": 386,
     "status": "ok",
     "timestamp": 1612404056217,
     "user": {
      "displayName": "YUBO WANG",
      "photoUrl": "",
      "userId": "04037309235043616004"
     },
     "user_tz": 300
    },
    "id": "CmOqt05zSnIq"
   },
   "outputs": [],
   "source": [
    "def KLdivergence(x, y):\n",
    "    \"\"\"Compute the Kullback-Leibler divergence between two multivariate samples.\n",
    "    Parameters\n",
    "    ----------\n",
    "    x : 2D array (n,d)\n",
    "      Samples from distribution P, which typically represents the true\n",
    "      distribution.\n",
    "    y : 2D array (m,d)\n",
    "      Samples from distribution Q, which typically represents the approximate\n",
    "      distribution.\n",
    "    Returns\n",
    "    -------\n",
    "    out : float\n",
    "      The estimated Kullback-Leibler divergence D(P||Q).\n",
    "    References\n",
    "    ----------\n",
    "    Pérez-Cruz, F. Kullback-Leibler divergence estimation of\n",
    "  continuous distributions IEEE International Symposium on Information\n",
    "  Theory, 2008.\n",
    "    \"\"\"\n",
    "    from scipy.spatial import cKDTree as KDTree\n",
    "\n",
    "    # Check the dimensions are consistent\n",
    "    x = np.atleast_2d(x)\n",
    "    y = np.atleast_2d(y)\n",
    "\n",
    "    n,d = x.shape\n",
    "    m,dy = y.shape\n",
    "\n",
    "    assert(d == dy)\n",
    "\n",
    "\n",
    "    # Build a KD tree representation of the samples and find the nearest neighbour\n",
    "    # of each point in x.\n",
    "    xtree = KDTree(x)\n",
    "    ytree = KDTree(y)\n",
    "\n",
    "    # Get the first two nearest neighbours for x, since the closest one is the\n",
    "    # sample itself.\n",
    "    r = xtree.query(x, k=2, eps=.01, p=2)[0][:,1]\n",
    "    s = ytree.query(x, k=1, eps=.01, p=2)[0]\n",
    "\n",
    "    # There is a mistake in the paper. In Eq. 14, the right side misses a negative sign\n",
    "    # on the first term of the right hand side.\n",
    "    return -np.log(r/s).sum() * d / n + np.log(m / (n - 1.))"
   ]
  },
  {
   "cell_type": "code",
   "execution_count": 21,
   "metadata": {
    "executionInfo": {
     "elapsed": 659,
     "status": "ok",
     "timestamp": 1612404057276,
     "user": {
      "displayName": "YUBO WANG",
      "photoUrl": "",
      "userId": "04037309235043616004"
     },
     "user_tz": 300
    },
    "id": "1MtqHLdN28gB"
   },
   "outputs": [],
   "source": [
    "PATH = 'anonymous/Contour-Stochastic-Gradient-Langevin-Dynamics/'\n",
    "import pickle\n",
    "f = open(PATH + \"simulation_figures/true_samples.txt\", 'rb')\n",
    "true_samples = pickle.load(f)\n",
    "f.close()"
   ]
  },
  {
   "cell_type": "code",
   "execution_count": 11,
   "metadata": {
    "executionInfo": {
     "elapsed": 425527,
     "status": "ok",
     "timestamp": 1612239989511,
     "user": {
      "displayName": "YUBO WANG",
      "photoUrl": "",
      "userId": "04037309235043616004"
     },
     "user_tz": 300
    },
    "id": "TgNPhUhVSoY_"
   },
   "outputs": [],
   "source": [
    "resgld_kl = []\n",
    "resgld_epochs = []\n",
    "resgld_path = []\n",
    "resgld_epoch_path = []  \n",
    "for i in range(100, resgld_x.shape[0]):\n",
    "    resgld_path.append(KLdivergence(true_samples, resgld_x[:i,:]))\n",
    "resgld_kl.append(resgld_path)"
   ]
  },
  {
   "cell_type": "code",
   "execution_count": null,
   "metadata": {
    "id": "F-dKEvjgSuwe"
   },
   "outputs": [],
   "source": [
    "resgld_kl_array = np.array(resgld_kl)\n",
    "resgld_epoch_array = np.array(resgld_epochs)\n",
    "resgld_sd = np.array([np.std(resgld_kl_array[:,i]) for i in range(resgld_kl_array.shape[1])]) / np.sqrt(20)\n",
    "resgld_mu = np.array([np.mean(resgld_kl_array[:,i]) for i in range(resgld_kl_array.shape[1])]) \n",
    "resgld_lower = resgld_mu - 1.96 * resgld_sd\n",
    "resgld_upper = resgld_mu + 1.96 * resgld_sd"
   ]
  },
  {
   "cell_type": "code",
   "execution_count": null,
   "metadata": {
    "id": "1xw7dhVUVcWX"
   },
   "outputs": [],
   "source": [
    "x =  np.arange(7000, 4e5, 20)\n",
    "re_x = np.arange(6600, 4e5, 100)\n",
    "fig=plt.figure()\n",
    "plt.plot(np.linspace(5100, 100000, 854), resgld_mu, label=\"re sgld\")\n",
    "plt.fill_between(np.linspace(5100, 100000, 854), resgld_lower, resgld_upper,\n",
    "                 color = 'black', alpha = 0.15)\n",
    "\n",
    "\n",
    "plt.legend()\n",
    "plt.ylabel(\"KL divergence\")\n",
    "plt.xlabel(\"time steps\")\n",
    "plt.savefig(PATH + \"reSGLD_result/kl.png\")\n",
    "plt.close()"
   ]
  },
  {
   "cell_type": "markdown",
   "metadata": {
    "id": "MgU7Y6pHjad0"
   },
   "source": [
    "# Plot the swap process"
   ]
  },
  {
   "cell_type": "code",
   "execution_count": null,
   "metadata": {
    "id": "bcdrsCk38iMA"
   },
   "outputs": [],
   "source": [
    "import pickle\n",
    "f = open(PATH + \"reSGLD_result/old_result/swap_rec.txt\", 'rb')\n",
    "swap_rec = pickle.load(f)\n",
    "swap_rec = np.array(swap_rec)"
   ]
  },
  {
   "cell_type": "code",
   "execution_count": null,
   "metadata": {
    "id": "9bX9v1hzwCTC"
   },
   "outputs": [],
   "source": [
    "swap_x, swap_y = [], []\n",
    "noswap_x, noswap_y = [], []\n",
    "route_x, route_y = [], []\n",
    "left, right = 70000, 70050\n",
    "\n",
    "# find route\n",
    "pointer = 0\n",
    "\n",
    "\n",
    "for i in range(left, right):\n",
    "    tmp, flag = None, False\n",
    "    for j in range(4):\n",
    "        if j == pointer - 1:\n",
    "            if pointer == 4 and swap_rec[i,j] == 0:\n",
    "                route_x += [i, i+1, None]\n",
    "                route_y += [pointer+1, pointer+1, None]\n",
    "                continue\n",
    "            if swap_rec[i,j] == 1:\n",
    "                pointer -= 1\n",
    "                route_x += [i, i+1, None]\n",
    "                route_y += [pointer+2, pointer+1, None]\n",
    "                continue\n",
    "        elif j == pointer:\n",
    "            if swap_rec[i,j] == 0:\n",
    "                route_x += [i, i+1, None]\n",
    "                route_y += [pointer+1, pointer+1, None]\n",
    "            else:\n",
    "                tmp = pointer + 1\n",
    "                flag = True\n",
    "        elif j > pointer and flag:\n",
    "            if swap_rec[i,j] == 0:              \n",
    "                break\n",
    "            else:\n",
    "                tmp += 1\n",
    "            \n",
    "    \n",
    "    if tmp:\n",
    "        route_x += [i, i+1, None]\n",
    "        route_y += [pointer+1, tmp+1, None]\n",
    "        pointer = tmp\n",
    "\n",
    "\n",
    "\n",
    "for i in range(left, right):\n",
    "    for j in range(4):\n",
    "        if swap_rec[i,j] == 1:\n",
    "            swap_x += [i, i+1, None, i, i+1, None]\n",
    "            swap_y += [j+1, j+2, None, j+2, j+1, None]\n",
    "            \n",
    "\n",
    "        else:\n",
    "            noswap_x += [i, i+1, None]\n",
    "            noswap_y += [j+1, j+1, None]\n",
    "            if j == 3:\n",
    "                noswap_x += [i, i+1, None]\n",
    "                noswap_y += [j+2, j+2, None]\n",
    "\n"
   ]
  },
  {
   "cell_type": "code",
   "execution_count": null,
   "metadata": {
    "colab": {
     "base_uri": "https://localhost:8080/",
     "height": 245
    },
    "executionInfo": {
     "elapsed": 675,
     "status": "ok",
     "timestamp": 1612121686971,
     "user": {
      "displayName": "YUBO WANG",
      "photoUrl": "",
      "userId": "04037309235043616004"
     },
     "user_tz": 300
    },
    "id": "gJrhh1aro5B7",
    "outputId": "a24e5c05-8c95-42ae-f93d-1d7e2e75b017"
   },
   "outputs": [
    {
     "name": "stderr",
     "output_type": "stream",
     "text": [
      "/usr/local/lib/python3.6/dist-packages/ipykernel_launcher.py:25: MatplotlibDeprecationWarning: Using a string of single character colors as a color sequence is deprecated. Use an explicit list instead.\n",
      "/usr/local/lib/python3.6/dist-packages/ipykernel_launcher.py:28: MatplotlibDeprecationWarning: Using a string of single character colors as a color sequence is deprecated. Use an explicit list instead.\n"
     ]
    },
    {
     "data": {
      "image/png": "[encoded data removed]",
      "text/plain": [
       "<Figure size 800x200 with 1 Axes>"
      ]
     },
     "metadata": {
      "tags": []
     },
     "output_type": "display_data"
    }
   ],
   "source": [
    "nepoch=4e5\n",
    "font1 = {'family' : 'Times New Roman',\n",
    "'weight' : 'normal',\n",
    "'size'   : 11,\n",
    "}\n",
    "\n",
    "font2 = {'family' : 'Times New Roman',\n",
    "'weight' : 'normal',\n",
    "'size'   : 11,\n",
    "}\n",
    "\n",
    "plt.style.use(\"default\")\n",
    "axis_x = list(range(int(nepoch)))\n",
    "axis_X1, axis_Y1 = np.meshgrid(axis_x, axis_y)\n",
    "\n",
    "fig = plt.figure(figsize=(8, 2))\n",
    "ax=plt.gca()\n",
    "ax.yaxis.set_major_locator(y_major_locator)\n",
    "ax.spines['top'].set_visible(False)\n",
    "ax.spines['right'].set_visible(False)\n",
    "ax.spines['bottom'].set_visible(False)\n",
    "ax.spines['left'].set_visible(False)\n",
    "\n",
    "plt.ylim(0.7, 5.5)\n",
    "plt.scatter(axis_X1[:,left:right], axis_Y1[:,left:right],s=5,marker='o',c='', edgecolors='black')\n",
    "plt.plot(swap_x, swap_y,color='#6aa84f', alpha=1)\n",
    "plt.plot(noswap_x, noswap_y,color='#e06666', alpha=1)\n",
    "plt.scatter(route_x,route_y,s=20, marker='o',c='', edgecolors='#ffc85c')\n",
    "plt.plot(route_x,route_y,linewidth=2,color='#ffc85c')\n",
    "# plt.tick_params(labelsize=11)\n",
    "plt.tick_params(\n",
    "    axis='x',          # changes apply to the x-axis\n",
    "    which='both',      # both major and minor ticks are affected\n",
    "    bottom=False,      # ticks along the bottom edge are off\n",
    "    top=False,         # ticks along the top edge are off\n",
    "    labelbottom=False) # labels along the bottom edge are off\n",
    "plt.tick_params(\n",
    "    axis='y',          # changes apply to the x-axis\n",
    "    which='both',      # both major and minor ticks are affected\n",
    "    bottom=False,      # ticks along the bottom edge are off\n",
    "    top=False,         # ticks along the top edge are off\n",
    "    left=False,\n",
    "    labelleft=False) # labels along the bottom edge are off\n",
    "# labels = ax.get_xticklabels() + ax.get_yticklabels()\n",
    "[label.set_fontname('Times New Roman') for label in labels]\n",
    "# plt.subplots_adjust(left = 0,top=1)\n",
    "\n",
    "fig.savefig(PATH + \"simulation_figures/population_reSGLD_swap_\"+str(sampler.lr)+\"_\"+str(sampler.T)+\".png\")"
   ]
  },
  {
   "cell_type": "code",
   "execution_count": 7,
   "metadata": {
    "executionInfo": {
     "elapsed": 1345,
     "status": "ok",
     "timestamp": 1612386327433,
     "user": {
      "displayName": "YUBO WANG",
      "photoUrl": "",
      "userId": "04037309235043616004"
     },
     "user_tz": 300
    },
    "id": "moG16ybuCm9J"
   },
   "outputs": [],
   "source": [
    "import pickle\n",
    "PATH = \"anonymous/Contour-Stochastic-Gradient-Langevin-Dynamics/SGLD_result/old_result/\"\n",
    "f = open(PATH + \"population_SGLD_samples.txt\",'rb')\n",
    "samples = pickle.load(f)"
   ]
  },
  {
   "cell_type": "code",
   "execution_count": null,
   "metadata": {
    "colab": {
     "base_uri": "https://localhost:8080/",
     "height": 408
    },
    "executionInfo": {
     "elapsed": 29350,
     "status": "ok",
     "timestamp": 1611724431862,
     "user": {
      "displayName": "YUBO WANG",
      "photoUrl": "",
      "userId": "04037309235043616004"
     },
     "user_tz": 300
    },
    "id": "lbT636mQOoY7",
    "outputId": "125f6791-d697-4d38-9694-c035cce58617"
   },
   "outputs": [
    {
     "name": "stderr",
     "output_type": "stream",
     "text": [
      "/usr/local/lib/python3.6/dist-packages/seaborn/_decorators.py:43: FutureWarning: Pass the following variable as a keyword arg: y. From version 0.12, the only valid positional argument will be `data`, and passing other arguments without an explicit keyword will result in an error or misinterpretation.\n",
      "  FutureWarning\n",
      "/usr/local/lib/python3.6/dist-packages/seaborn/distributions.py:1657: FutureWarning: The `bw` parameter is deprecated in favor of `bw_method` and `bw_adjust`. Using 0.15 for `bw_method`, but please see the docs for the new parameters and update your code.\n",
      "  warnings.warn(msg, FutureWarning)\n"
     ]
    },
    {
     "data": {
      "text/plain": [
       "(-2.5, 2.5)"
      ]
     },
     "execution_count": 21,
     "metadata": {
      "tags": []
     },
     "output_type": "execute_result"
    },
    {
     "data": {
      "image/png": "[encoded data removed]",
      "text/plain": [
       "<Figure size 315x315 with 1 Axes>"
      ]
     },
     "metadata": {
      "tags": []
     },
     "output_type": "display_data"
    }
   ],
   "source": [
    "plt.style.use('default')\n",
    "fig = plt.figure(figsize=(3.15, 3.15))\n",
    "\n",
    "warm_sample = 50\n",
    "split_ = 1\n",
    "plt.subplot(1, 1, 1)\n",
    "ax = sns.kdeplot(samples[:,0][::split_][warm_sample:], samples[:,1][::split_][warm_sample:],  cmap=\"Blues\", shade=True, thresh=0.05, bw=0.15)\n",
    "ax.set_xlim(lower, upper)\n",
    "ax.set_ylim(lower, upper)\n",
    "# plt.savefig(PATH+\"SGLD.png\")\n",
    "# plt.close()"
   ]
  }
 ],
 "metadata": {
  "colab": {
   "authorship_tag": "ABX9TyMaU0QM7ZD4Q2LjaN5chjt6",
   "name": "replica_exchange_SGLD.ipynb",
   "provenance": []
  },
  "kernelspec": {
   "display_name": "Python 3",
   "language": "python",
   "name": "python3"
  },
  "language_info": {
   "codemirror_mode": {
    "name": "ipython",
    "version": 3
   },
   "file_extension": ".py",
   "mimetype": "text/x-python",
   "name": "python",
   "nbconvert_exporter": "python",
   "pygments_lexer": "ipython3",
   "version": "3.8.5"
  }
 },
 "nbformat": 4,
 "nbformat_minor": 1
}
